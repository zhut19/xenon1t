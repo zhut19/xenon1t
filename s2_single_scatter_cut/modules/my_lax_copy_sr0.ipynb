{
 "cells": [
  {
   "cell_type": "code",
   "execution_count": 1,
   "metadata": {
    "collapsed": true
   },
   "outputs": [],
   "source": [
    "# Copy of lax sr0 but do the cut directly instead of adding a new columns\n",
    "from collections import OrderedDict\n",
    "\n",
    "import numpy as np\n",
    "import pandas as pd\n",
    "from scipy import interpolate\n",
    "\n",
    "from pax import units, configuration, datastructure\n",
    "pax_config = configuration.load_configuration('XENON1T')\n",
    "\n",
    "class Lichen(object):\n",
    "    version = np.NaN\n",
    "\n",
    "    def pre(self, df):\n",
    "        return df\n",
    "\n",
    "    def process(self, df):\n",
    "        df = self.pre(df)\n",
    "        df = self._process(df)\n",
    "        df = self.post(df)\n",
    "        return df\n",
    "\n",
    "    def _process(self, df):\n",
    "        raise NotImplementedError()\n",
    "\n",
    "    def post(self, df):\n",
    "        if 'temp' in df.columns:\n",
    "            return df.drop('temp', 1)\n",
    "        return df\n",
    "\n",
    "    def name(self):\n",
    "        return 'Cut%s' % self.__class__.__name__\n",
    "    \n",
    "class ManyLichen(Lichen):\n",
    "    lichen_list = []\n",
    "    def _process(self, df):\n",
    "        for lichen in self.lichen_list:\n",
    "            df = lichen.process(df)\n",
    "        return df\n",
    "    \n",
    "class StringLichen(Lichen):\n",
    "    string = \"\"\n",
    "\n",
    "    def _process(self, df):\n",
    "        df = df[df.eval(self.string)]\n",
    "        return df"
   ]
  },
  {
   "cell_type": "code",
   "execution_count": 2,
   "metadata": {
    "collapsed": false
   },
   "outputs": [],
   "source": [
    "class LowEnergyBackground(ManyLichen):\n",
    "\n",
    "    def __init__(self):\n",
    "        self.lichen_list = [\n",
    "            FiducialCylinder1T(),\n",
    "            S1LowEnergyRange(),\n",
    "            S2Threshold(),\n",
    "            InteractionPeaksBiggest(),\n",
    "            S2AreaFractionTop(),\n",
    "            DAQVeto(),\n",
    "            S1SingleScatter(),\n",
    "            # S1AreaFractionTop(),\n",
    "            S2PatternLikelihood(),\n",
    "            S2Tails(),\n",
    "            S1PatternLikelihood(),\n",
    "            S2Width(),\n",
    "            S1MaxPMT(),\n",
    "            SingleElectronS2s()\n",
    "        ]"
   ]
  },
  {
   "cell_type": "code",
   "execution_count": 3,
   "metadata": {
    "collapsed": true
   },
   "outputs": [],
   "source": [
    "class FiducialCylinder1T(Lichen):\n",
    "\n",
    "    def pre(self, df):\n",
    "        df.loc[:, 'temp'] = np.sqrt(df['x'] * df['x'] + df['y'] * df['y'])\n",
    "        return df\n",
    "    \n",
    "    def _process(self, df):\n",
    "        df = df[(df.z > -92.9) & (df.z < -9) & (df.temp < 36.94)]\n",
    "        return df"
   ]
  },
  {
   "cell_type": "code",
   "execution_count": 4,
   "metadata": {
    "collapsed": false
   },
   "outputs": [],
   "source": [
    "class AmBeFiducial(Lichen):\n",
    "    \n",
    "    def pre(self, df):\n",
    "        source_position = (55.965311731903, 43.724893639103577, -50)\n",
    "        df.loc[:, 'temp'] = ((source_position[0] - df['x']) ** 2 +\n",
    "                          (source_position[1] - df['y']) ** 2 +\n",
    "                          (source_position[2] - df['z']) ** 2) ** 0.5\n",
    "        return df\n",
    "    \n",
    "    def _process(self, df):\n",
    "        df = df[(df.temp < 80) & (df.z > -83.45) & (df.z < -13.45) &\n",
    "                (np.sqrt(df.x * df.x + df.y * df.y) < 42.00)\n",
    "               ]\n",
    "        return df"
   ]
  },
  {
   "cell_type": "code",
   "execution_count": 5,
   "metadata": {
    "collapsed": false
   },
   "outputs": [],
   "source": [
    "class S1LowEnergyRange(StringLichen):\n",
    "    string = '(cs1 > 0) & (cs1 < 200)'"
   ]
  },
  {
   "cell_type": "code",
   "execution_count": 6,
   "metadata": {
    "collapsed": true
   },
   "outputs": [],
   "source": [
    "class S2Threshold(StringLichen):\n",
    "    string = '(s2 > 200)'"
   ]
  },
  {
   "cell_type": "code",
   "execution_count": 7,
   "metadata": {
    "collapsed": true
   },
   "outputs": [],
   "source": [
    "class InteractionPeaksBiggest(StringLichen):\n",
    "    ## string = \"(s1 > largest_other_s1) & (s2 > largest_other_s2)\"\n",
    "    string  = \"s2 > largest_other_s2\""
   ]
  },
  {
   "cell_type": "code",
   "execution_count": 8,
   "metadata": {
    "collapsed": false
   },
   "outputs": [],
   "source": [
    "class InteractionExists(StringLichen):\n",
    "    string = 'cs1 > 0'"
   ]
  },
  {
   "cell_type": "code",
   "execution_count": 9,
   "metadata": {
    "collapsed": true
   },
   "outputs": [],
   "source": [
    "class S2AreaFractionTop(Lichen):\n",
    "    def _not_in_use_process(self, df):\n",
    "        df = df[(df.s2_area_fraction_top > 0.5) &\n",
    "                (df.s2_area_fraction_top < 0.72)\n",
    "               ]\n",
    "        return df\n",
    "    \n",
    "    def _process(self, df):\n",
    "        df['s2aft_up_lim'] = (0.6177399420527526 + 3.713166211522462e-08 * df.s2 + 0.5460484265254656 / np.log(df.s2))\n",
    "        df['s2aft_low_lim'] = (0.6648160611018054 - 2.590402853814859e-07 * df.s2 - 0.8531029789184852 / np.log(df.s2))\n",
    "        df = df[df.s2_area_fraction_top < df.s2aft_up_lim]\n",
    "        df = df[df.s2_area_fraction_top > df.s2aft_low_lim]\n",
    "        df.drop(['s2aft_up_lim','s2aft_low_lim'], axis = 1, inplace = True)\n",
    "        return df"
   ]
  },
  {
   "cell_type": "code",
   "execution_count": 10,
   "metadata": {
    "collapsed": true
   },
   "outputs": [],
   "source": [
    "class DAQVeto(ManyLichen):\n",
    "    version = 1\n",
    "\n",
    "    def __init__(self):\n",
    "        self.lichen_list = [#self.EndOfRunCheck(),\n",
    "                            self.BusyTypeCheck(),\n",
    "                            self.BusyCheck(),\n",
    "                            self.HEVCheck()]\n",
    "\n",
    "    class EndOfRunCheck(Lichen):\n",
    "        \"\"\"Check that the event does not come in the last 21 seconds of the run\n",
    "        \"\"\"\n",
    "        def _process(self, df):\n",
    "            import hax          # noqa\n",
    "            if not len(hax.config):\n",
    "                # User didn't init hax yet... let's do it now\n",
    "                hax.init()\n",
    "\n",
    "            # Get the end times for each run\n",
    "            # The datetime -> timestamp logic here is the same as in the pax event builder\n",
    "            run_numbers = np.unique(df.run_number.values)\n",
    "            run_end_times = [int(q.replace(tzinfo=pytz.utc).timestamp() * int(1e9))\n",
    "                             for q in hax.runs.get_run_info(run_numbers.tolist(), 'end')]\n",
    "            run_end_times = {run_numbers[i]: run_end_times[i]\n",
    "                             for i in range(len(run_numbers))}\n",
    "\n",
    "            # Pass events that occur before (end time - 21 sec) of the run they are in\n",
    "            df = df[df.apply(lambda row: row['event_time'] <\n",
    "                             run_end_times[row['run_number']] - 21e9, axis=1)]\n",
    "            return df\n",
    "\n",
    "    class BusyTypeCheck(Lichen):\n",
    "        def _process(self, df):\n",
    "            df = df[((~(df['previous_busy_on'] < 60e9)) |\n",
    "                       (df['previous_busy_off'] < df['previous_busy_on']))]\n",
    "            return df\n",
    "\n",
    "    class BusyCheck(Lichen):\n",
    "        def _process(self, df):\n",
    "            df = df[(abs(df['nearest_busy']) > df['event_duration'] / 2)]\n",
    "            return df\n",
    "\n",
    "    class HEVCheck(Lichen):\n",
    "        def _process(self, df):\n",
    "            df = df[ (abs(df['nearest_hev']) > df['event_duration'] / 2)]\n",
    "            return df"
   ]
  },
  {
   "cell_type": "code",
   "execution_count": 11,
   "metadata": {
    "collapsed": true
   },
   "outputs": [],
   "source": [
    "class S1SingleScatter(Lichen):\n",
    "    def _process(self, df):\n",
    "        s2width = S2Width\n",
    "        \n",
    "        alt_rel_width = df['s2_range_50p_area'] / s2width.s2_width_model(df['alt_s1_interaction_z'])\n",
    "        alt_interaction_passes = alt_rel_width < s2width.relative_s2_width_bounds(df.s2.values, kind='high')\n",
    "        alt_interaction_passes &= alt_rel_width > s2width.relative_s2_width_bounds(df.s2.values, kind='low')\n",
    "        df.loc[:, 'temp'] = True ^ alt_interaction_passes\n",
    "        df = df[df.temp]\n",
    "        return df"
   ]
  },
  {
   "cell_type": "code",
   "execution_count": 12,
   "metadata": {
    "collapsed": true
   },
   "outputs": [],
   "source": [
    "class S2PatternLikelihood(StringLichen):\n",
    "    string = 's2_pattern_fit < 75 + 10 * s2 ** 0.45'"
   ]
  },
  {
   "cell_type": "code",
   "execution_count": 13,
   "metadata": {
    "collapsed": true
   },
   "outputs": [],
   "source": [
    "class S2Tails(Lichen):\n",
    "    def _process(self, df):\n",
    "        df = df[((~(df['s2_over_tdiff'] >= 0)) |\n",
    "                                    (df['s2_over_tdiff'] < 0.04))]\n",
    "        return df"
   ]
  },
  {
   "cell_type": "code",
   "execution_count": 26,
   "metadata": {
    "collapsed": true
   },
   "outputs": [],
   "source": [
    "class S1PatternLikelihood(Lichen):\n",
    "\n",
    "    def pre(self, df):\n",
    "        df.loc[:, 'temp'] = -2.39535 + \\\n",
    "                            25.5857 * pow(df['s1'], 0.5) + \\\n",
    "                            1.30652 * df['s1'] - \\\n",
    "                            0.0638579 * np.power(df['s1'], 1.5)\n",
    "        return df\n",
    "\n",
    "    def _process(self, df):\n",
    "        df.loc[:, 'CutS1PatternLikelihood'] = df.s1_pattern_fit < df.temp\n",
    "        return df"
   ]
  },
  {
   "cell_type": "code",
   "execution_count": 15,
   "metadata": {
    "collapsed": true
   },
   "outputs": [],
   "source": [
    "class S2Width(Lichen):\n",
    "    def s2_width_model(z):\n",
    "        diffusion_constant = pax_config['WaveformSimulator']['diffusion_constant_liquid']\n",
    "        v_drift = pax_config['DEFAULT']['drift_velocity_liquid']\n",
    "        w0 = 348.6\n",
    "        return np.sqrt(w0 ** 2 - 4.0325 * diffusion_constant * z / v_drift ** 3)\n",
    "    \n",
    "    def relative_s2_width_bounds(s2, kind='high'):\n",
    "        x = 0.5 * np.log10(np.clip(s2, 150, 4500 if kind == 'high' else 2500))\n",
    "        if kind == 'high':\n",
    "            return 3 - x\n",
    "        elif kind == 'low':\n",
    "            return -0.9 + x\n",
    "        raise ValueError(\"kind must be high or low\")\n",
    "    \n",
    "    def pre(self, df):\n",
    "        df.loc[:, 'temp'] = df['s2_range_50p_area'] / S2Width.s2_width_model(df.z)\n",
    "        return df\n",
    "        \n",
    "    def _process(self, df):\n",
    "        df = df[df.temp <= S2Width.relative_s2_width_bounds(df.s2, kind='high')]\n",
    "        df = df[df.temp >= S2Width.relative_s2_width_bounds(df.s2, kind='low')]\n",
    "        return df"
   ]
  },
  {
   "cell_type": "code",
   "execution_count": 16,
   "metadata": {
    "collapsed": true
   },
   "outputs": [],
   "source": [
    "class S1MaxPMT(StringLichen):\n",
    "    string = \"s1_largest_hit_area < 0.052 * s1 + 4.15\""
   ]
  },
  {
   "cell_type": "code",
   "execution_count": null,
   "metadata": {
    "collapsed": false
   },
   "outputs": [],
   "source": [
    "class SingleElectronS2s(Lichen):\n",
    "\n",
    "    allowed_range_area = (10, 200)\n",
    "    allowed_range_rt =(11,450)\n",
    "    area_variable = 's1'\n",
    "    rt_variable = 's1_rise_time'\n",
    "    aft_variable = 's1_area_fraction_top'\n",
    "\n",
    "    bound = interpolate.interp1d([0, 0.3, 0.4, 0.5, 0.60, 0.60,1.0],[70, 70, 61, 61,35,0,0], kind='linear')\n",
    "\n",
    "    def _process(self, df):\n",
    "        # Is the event inside the area box considered for this study?\n",
    "        cond1 = ((df[self.area_variable] > self.allowed_range_area[0]) &\n",
    "                (df[self.area_variable] < self.allowed_range_area[1]) &\n",
    "                (df[self.rt_variable] > self.allowed_range_rt[0]) &\n",
    "                (df[self.rt_variable] < self.allowed_range_rt[1]))\n",
    "        cond2 = (df[self.rt_variable] < SingleElectronS2s.bound(df[self.aft_variable]))\n",
    "\n",
    "        # Pass events by default\n",
    "        passes = np.ones(len(df), dtype=np.bool)\n",
    "\n",
    "        # Reject events inside the box that don't pass the bound\n",
    "        passes = (True ^ (cond1)) | (cond1 & cond2)\n",
    "\n",
    "        df.loc[:, 'temp'] = passes\n",
    "        df = df[df.temp]\n",
    "        return df"
   ]
  }
 ],
 "metadata": {
  "anaconda-cloud": {},
  "kernelspec": {
   "display_name": "xenon1t",
   "language": "python",
   "name": "xenon1t"
  },
  "language_info": {
   "codemirror_mode": {
    "name": "ipython",
    "version": 3
   },
   "file_extension": ".py",
   "mimetype": "text/x-python",
   "name": "python",
   "nbconvert_exporter": "python",
   "pygments_lexer": "ipython3",
   "version": "3.4.4"
  }
 },
 "nbformat": 4,
 "nbformat_minor": 1
}
