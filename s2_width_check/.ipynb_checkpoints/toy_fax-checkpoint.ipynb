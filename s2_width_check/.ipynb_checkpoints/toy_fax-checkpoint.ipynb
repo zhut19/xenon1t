{
 "cells": [
  {
   "cell_type": "code",
   "execution_count": null,
   "metadata": {
    "collapsed": true
   },
   "outputs": [],
   "source": [
    "import os, sys, io, time, math\n",
    "import numpy as np\n",
    "from numpy import sqrt, exp, pi, square, log10\n",
    "from multihist import Histdd, Hist1d\n",
    "import matplotlib\n",
    "import matplotlib.pyplot as plt\n",
    "%matplotlib inline \n",
    "%config InlineBackend.figure_format = 'retina'   # enable if you have a retina display\n",
    "import pandas as pd\n",
    "pd.options.mode.chained_assignment = None        # default='warn'\n",
    "from scipy.interpolate import interp1d, InterpolatedUnivariateSpline\n",
    "import warnings\n",
    "warnings.filterwarnings('ignore')\n",
    "from tqdm import tqdm"
   ]
  },
  {
   "cell_type": "code",
   "execution_count": null,
   "metadata": {
    "collapsed": true
   },
   "outputs": [],
   "source": [
    "from pax import units, utils, datastructure\n",
    "from pax.configuration import load_configuration\n",
    "from pax.PatternFitter import PatternFitter\n",
    "from pax.InterpolatingMap import InterpolatingMap\n",
    "from pax.utils import Memoize\n",
    "\n",
    "config = load_configuration(config_names = ['XENON1T','Simulation'], \n",
    "                            config_paths = ['/home/zhut/sim/processing/montecarlo/config/SR1_parameters.ini'])\n",
    "\n",
    "c = {}\n",
    "c.update(config['DEFAULT'])\n",
    "c.update(config['WaveformSimulator'])"
   ]
  },
  {
   "cell_type": "code",
   "execution_count": null,
   "metadata": {
    "collapsed": false
   },
   "outputs": [],
   "source": [
    "# pulse shape for single photoelectron\n",
    "ts = c.get('pe_pulse_ts')\n",
    "ys = c.get('pe_pulse_ys')\n",
    "pe_pulse_function = interp1d(ts, np.cumsum(ys)/np.sum(ys), bounds_error = False, fill_value = (0,1))\n",
    "\n",
    "dt = c.get('sample_duration')\n",
    "samples_before, samples_after = 5, 30\n",
    "samples = np.linspace(-samples_before*dt, +samples_after*dt, 1+samples_before+samples_after)\n",
    "\n",
    "pmt_current = np.diff(pe_pulse_function(samples))/dt"
   ]
  },
  {
   "cell_type": "code",
   "execution_count": null,
   "metadata": {
    "collapsed": false
   },
   "outputs": [],
   "source": [
    "# S2 spectrum to draw from\n",
    "plt.rcParams['figure.figsize'] = (8, 5)\n",
    "fig = plt.figure()\n",
    "n_sim = 200000\n",
    "slope = 0.5\n",
    "n_electrons   =   np.random.uniform(0.45**slope,3.7**slope,n_sim)**(1/slope)\n",
    "n_electrons   =   np.array( 10**n_electrons)*21.3\n",
    "\n",
    "mh = Histdd(n_electrons, np.ones_like(n_electrons), \n",
    "            axis_names = ['$S2\\ Area\\ [pe]$', r'$Normalized\\ R50$'],\n",
    "            bins = [np.logspace(1.8,5,60), np.linspace(0,3,80)])\n",
    "ph = mh.project(axis = 0)\n",
    "ph.plot()\n",
    "plt.xlim([60,1e5])\n",
    "plt.ylim([0,max(ph.histogram)])\n",
    "plt.xscale('log')\n",
    "plt.show()"
   ]
  },
  {
   "cell_type": "code",
   "execution_count": null,
   "metadata": {
    "collapsed": false
   },
   "outputs": [],
   "source": [
    "def s2_width_model_in_fax(z):\n",
    "    dif_const = 29.35\n",
    "    v = .1335\n",
    "    return sqrt(- 2 * dif_const * z / v ** 3)\n",
    "\n",
    "df = pd.DataFrame()\n",
    "n_sim = 200000\n",
    "n_electrons   =   square(np.random.uniform(0.45**0.5,3.7**0.5,n_sim))\n",
    "n_electrons   =   np.array( 10**n_electrons, dtype = int)\n",
    "\n",
    "n_electrons   =   n_electrons[n_electrons>0]\n",
    "n_sim = len(n_electrons)\n",
    "df['n_electrons'] = n_electrons\n",
    "z_sim = np.random.uniform(-100, -5, n_sim)\n",
    "df['z_sim'] = z_sim\n",
    "df['t_photon_mean'] =   np.array([np.random.normal(0, s2_width_model_in_fax(row.z_sim), row.n_electrons) for ix, row in df.iterrows()])\n",
    "df['n_photons']     =   np.array([np.round(np.clip(np.random.normal(21.3 ,  5,  row.n_electrons),1,10000)) for ix, row in df.iterrows()])\n",
    "\n",
    "  \n",
    "def append_data(df):\n",
    "    area, width = [], []\n",
    "    \n",
    "    with tqdm(total = len(df)) as pBar:\n",
    "        for peak, row in df.iterrows():\n",
    "            pBar.update(1)\n",
    "            t_photons_ = []\n",
    "            for electron, tpm in enumerate(row.t_photon_mean):\n",
    "                t_photons_.append(np.array(np.random.normal(tpm, 220, row.n_photons[electron])))\n",
    "                if np.random.uniform(0,1,1)[0] < 0.035:\n",
    "                    t_photons_[-1] += np.random.exponential(c['singlet_lifetime_gas'], 1)[0]\n",
    "                else:\n",
    "                    t_photons_[-1] += np.random.exponential(c['triplet_lifetime_gas'], 1)[0]\n",
    "\n",
    "            t_photons_ = np.concatenate(t_photons_)\n",
    "            t_photons_ = np.around(t_photons_, decimals = -1)\n",
    "\n",
    "            tmin, tmax = min(t_photons_) - 50, max(t_photons_) + 300\n",
    "            ts = np.linspace(tmin, tmax, tmax/10-tmin/10+1)\n",
    "            ys = np.zeros_like(ts)\n",
    "\n",
    "            for hit, t in enumerate(t_photons_):\n",
    "                index = int((t-tmin)/10)\n",
    "                ys[index-5 : index+30] += pmt_current\n",
    "\n",
    "            ph = Hist1d.from_histogram(ys[:-1], bin_edges = ts)\n",
    "            area.append(np.sum(row.n_photons))\n",
    "            width.append(ph.percentile(75) - ph.percentile(25))\n",
    "    \n",
    "    return (area, width)    \n",
    "    \n",
    "from multiprocessing import Pool\n",
    "\n",
    "dfs = np.array_split(df, 60)\n",
    "with Pool(processes = 20) as pool:\n",
    "    result = pool.map(append_data,dfs,2)"
   ]
  },
  {
   "cell_type": "code",
   "execution_count": null,
   "metadata": {
    "collapsed": true
   },
   "outputs": [],
   "source": []
  }
 ],
 "metadata": {
  "kernelspec": {
   "display_name": "Python 3",
   "language": "python",
   "name": "python3"
  },
  "language_info": {
   "codemirror_mode": {
    "name": "ipython",
    "version": 3
   },
   "file_extension": ".py",
   "mimetype": "text/x-python",
   "name": "python",
   "nbconvert_exporter": "python",
   "pygments_lexer": "ipython3",
   "version": "3.4.4"
  }
 },
 "nbformat": 4,
 "nbformat_minor": 0
}
