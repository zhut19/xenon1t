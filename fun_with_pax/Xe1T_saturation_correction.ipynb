{
 "cells": [
  {
   "cell_type": "code",
   "execution_count": 1,
   "metadata": {
    "collapsed": false
   },
   "outputs": [
    {
     "data": {
      "text/html": [
       "<script>\n",
       "code_show=true; \n",
       "function code_toggle() {\n",
       " if (code_show){\n",
       " $('div.input').hide();\n",
       " } else {\n",
       " $('div.input').show();\n",
       " }\n",
       " code_show = !code_show\n",
       "} \n",
       "$( document ).ready(code_toggle);\n",
       "</script>\n",
       "<form action=\"javascript:code_toggle()\"><input type=\"submit\" value=\"Click to toggle code\"></form>"
      ],
      "text/plain": [
       "<IPython.core.display.HTML object>"
      ]
     },
     "execution_count": 1,
     "metadata": {},
     "output_type": "execute_result"
    }
   ],
   "source": [
    "from IPython.display import HTML\n",
    "\n",
    "HTML('''<script>\n",
    "code_show=true; \n",
    "function code_toggle() {\n",
    " if (code_show){\n",
    " $('div.input').hide();\n",
    " } else {\n",
    " $('div.input').show();\n",
    " }\n",
    " code_show = !code_show\n",
    "} \n",
    "$( document ).ready(code_toggle);\n",
    "</script>\n",
    "<form action=\"javascript:code_toggle()\"><input type=\"submit\" value=\"Click to toggle code\"></form>''')"
   ]
  },
  {
   "cell_type": "markdown",
   "metadata": {},
   "source": [
    "# Data based saturation correction for high energy events in XENON1T\n",
    "* Yuehuan Wei and Fei Gao, Dec 12th, 2016\n",
    "\n",
    "\n"
   ]
  },
  {
   "cell_type": "code",
   "execution_count": 2,
   "metadata": {
    "collapsed": false
   },
   "outputs": [],
   "source": [
    "import numpy as np\n",
    "import matplotlib\n",
    "import matplotlib.pyplot as plt\n",
    "from scipy.optimize import curve_fit       # curve fitting libraries\n",
    "import pandas as pd\n",
    "from matplotlib.colors import LogNorm\n",
    "from collections import defaultdict\n",
    "from array import array\n",
    "import pylab\n",
    "import ROOT"
   ]
  },
  {
   "cell_type": "code",
   "execution_count": 3,
   "metadata": {
    "collapsed": false
   },
   "outputs": [],
   "source": [
    "### hax ###\n",
    "import hax\n",
    "hax.__version__\n",
    "\n",
    "hax.init(raw_data_access_mode = 'local',\n",
    "         raw_data_local_path = '/Users/feigao/data/xenon1t/raw/', \n",
    "         main_data_paths= ['/Users/feigao/data/xenon1t/processed/',''],\n",
    "         minitree_paths= ['/Users/feigao/data/xenon1t/minitrees/',''],\n",
    "         pax_version_policy = 'loose',\n",
    "         use_rundb=False,\n",
    "         #make_minitree=False,\n",
    "        )\n",
    "\n",
    "\"\"\"### hax ###\n",
    "import hax\n",
    "hax.__version__\n",
    "\n",
    "hax.init(raw_data_access_mode = 'local',\n",
    "         raw_data_local_path = ['/project/lgrandi/xenon1t/raw_for_waveforms/'], \n",
    "         main_data_paths= ['/project2/lgrandi/xenon1t/processed/pax_v6.8.0/',''],\n",
    "         minitree_paths= ['/scratch/midway2/zhut/data/SingleScatter/data/minitrees/','/project2/lgrandi/xenon1t/minitrees/pax_v6.8.0/'],\n",
    "         pax_version_policy = 'loose',\n",
    "         use_rundb=False,\n",
    "         make_minitree=False,\n",
    "        )\"\"\""
   ]
  },
  {
   "cell_type": "code",
   "execution_count": 5,
   "metadata": {
    "collapsed": false
   },
   "outputs": [
    {
     "data": {
      "text/plain": [
       "'/project2/lgrandi/xenon1t/processed/pax_v6.8.0/170419_0228.root'"
      ]
     },
     "execution_count": 5,
     "metadata": {},
     "output_type": "execute_result"
    }
   ],
   "source": [
    "my_dataset=8861\n",
    "subdataset = hax.runs.datasets[hax.runs.datasets.number == my_dataset]\n",
    "run_name = subdataset.iloc[0]['name']\n",
    "\n",
    "from hax import runs\n",
    "from hax.utils import find_file_in_folders\n",
    "find_file_in_folders(run_name + '.root', hax.config['main_data_paths'])"
   ]
  },
  {
   "cell_type": "code",
   "execution_count": 5,
   "metadata": {
    "collapsed": true
   },
   "outputs": [],
   "source": [
    "# df = hax.minitrees.load(run_name, ['LoneSignals','TotalProperties'], preselection=['s2_0_area>1e6'])"
   ]
  },
  {
   "cell_type": "code",
   "execution_count": 6,
   "metadata": {
    "collapsed": false
   },
   "outputs": [],
   "source": [
    "from hax.minitrees import TreeMaker\n",
    "from hax.corrections_handler import CorrectionsHandler\n",
    "\n",
    "class LoneSignalsExtended(TreeMaker):\n",
    "    __version__ = '0.31'\n",
    "    extra_branches = ['peaks.*']\n",
    "    extra_metadata = hax.config['corrections_definitions']\n",
    "    corrections_handler = CorrectionsHandler()\n",
    "\n",
    "    def extract_data(self, event):\n",
    "        peaks = event.peaks\n",
    "        if not len(peaks):\n",
    "            return dict()\n",
    "        s1_sorted = list(\n",
    "            sorted([p for p in event.peaks if p.type == 's1' and p.detector == 'tpc'], key=lambda p: p.area,\n",
    "                   reverse=True))\n",
    "        s2_sorted = list(\n",
    "            sorted([p for p in event.peaks if p.type == 's2' and p.detector == 'tpc'], key=lambda p: p.area,\n",
    "                   reverse=True))\n",
    "        unknown = [peak for peak in peaks if peak.type == 'unknown' and peak.detector == \"tpc\"]\n",
    "        result = dict(n_pulses=event.n_pulses, n_peaks=len(peaks), n_interactions=len(event.interactions))\n",
    "        result['unknown_tot'] = np.sum([peak.area for peak in unknown])\n",
    "        result['s1_area_tot'] = np.sum([peak.area for peak in s1_sorted])\n",
    "        result['s2_area_tot'] = np.sum([peak.area for peak in s2_sorted])\n",
    "        result['n_s1'] = len(s1_sorted)\n",
    "        result['n_s2'] = len(s2_sorted)\n",
    "\n",
    "        if len(s1_sorted):\n",
    "            result['area_before_largest_s1'] = np.sum(\n",
    "                [p.area for p in peaks if p.center_time < s1_sorted[0].center_time])\n",
    "            s1_0_recpos = s1_sorted[0].reconstructed_positions\n",
    "            for rp in s1_0_recpos:\n",
    "                if (rp.algorithm == 'PosRecTopPatternFit'):\n",
    "                    s1_0_recpos_pf = rp\n",
    "                    result['s1_0_x'] = s1_0_recpos_pf.x\n",
    "                    result['s1_0_y'] = s1_0_recpos_pf.y\n",
    "                    result['s1_0_posrec_goodness_of_fit'] = s1_0_recpos_pf.goodness_of_fit\n",
    "\n",
    "            result['s1_0_area'] = s1_sorted[0].area\n",
    "            result['s1_0_center_time'] = s1_sorted[0].center_time\n",
    "            result['s1_0_aft'] = s1_sorted[0].area_fraction_top\n",
    "            result['s1_0_50p_width'] = s1_sorted[0].range_area_decile[5]\n",
    "            result['s1_0_90p_width'] = s1_sorted[0].range_area_decile[9]\n",
    "            result['s1_0_rise_time'] = -s1_sorted[0].area_decile_from_midpoint[1]\n",
    "            result['s1_0_largest_hit_area'] = s1_sorted[0].largest_hit_area\n",
    "\n",
    "        if len(s2_sorted) > 0:\n",
    "            result['area_before_largest_s2'] = np.sum(p.area for p in peaks if p.center_time < s2_sorted[0].center_time)\n",
    "            s2_0_recpos = s2_sorted[0].reconstructed_positions\n",
    "            for rp in s2_0_recpos:\n",
    "                if (rp.algorithm == 'PosRecTopPatternFit'):\n",
    "                    s2_0_recpos_pf = rp\n",
    "                    result['s2_0_x'] = s2_0_recpos_pf.x\n",
    "                    result['s2_0_y'] = s2_0_recpos_pf.y\n",
    "                    result['s2_0_posrec_goodness_of_fit'] = s2_0_recpos_pf.goodness_of_fit\n",
    "\n",
    "                if (rp.algorithm == 'PosRecNeuralNet'):\n",
    "                    s2_0_recpos_pf = rp\n",
    "                    result['s2_0_x_nn'] = s2_0_recpos_pf.x\n",
    "                    result['s2_0_y_nn'] = s2_0_recpos_pf.y\n",
    "                    result['s2_0_posrec_goodness_of_fit_nn'] = s2_0_recpos_pf.goodness_of_fit\n",
    "\n",
    "            result['s2_0_area'] = s2_sorted[0].area\n",
    "            result['s2_0_left'] = s2_sorted[0].left\n",
    "            result['s2_0_right'] = s2_sorted[0].right\n",
    "            result['s2_0_center_time'] = s2_sorted[0].center_time\n",
    "            result['s2_0_aft'] = s2_sorted[0].area_fraction_top\n",
    "            result['s2_0_50p_width'] = s2_sorted[0].range_area_decile[5]\n",
    "            result['s2_0_rise_time'] = -s2_sorted[0].area_decile_from_midpoint[1]\n",
    "            result['s2_0_largest_hit_area'] = s2_sorted[0].largest_hit_area\n",
    "\n",
    "        if len(s2_sorted) > 1:\n",
    "            s2_1_recpos = s2_sorted[1].reconstructed_positions\n",
    "            for rp in s2_1_recpos:\n",
    "                if (rp.algorithm == 'PosRecTopPatternFit'):\n",
    "                    s2_1_recpos_pf = rp\n",
    "                    result['s2_1_x'] = s2_1_recpos_pf.x\n",
    "                    result['s2_1_y'] = s2_1_recpos_pf.y\n",
    "                    result['s2_1_posrec_goodness_of_fit'] = s2_1_recpos_pf.goodness_of_fit\n",
    "\n",
    "                if (rp.algorithm == 'PosRecNeuralNet'):\n",
    "                    s2_1_recpos_pf = rp\n",
    "                    result['s2_1_x_nn'] = s2_1_recpos_pf.x\n",
    "                    result['s2_1_y_nn'] = s2_1_recpos_pf.y\n",
    "                    result['s2_1_posrec_goodness_of_fit_nn'] = s2_1_recpos_pf.goodness_of_fit\n",
    "\n",
    "            result['s2_1_area'] = s2_sorted[1].area\n",
    "            result['s2_1_center_time'] = s2_sorted[1].center_time\n",
    "            result['s2_1_aft'] = s2_sorted[1].area_fraction_top\n",
    "            result['s2_1_50p_width'] = s2_sorted[1].range_area_decile[5]\n",
    "            result['s2_1_rise_time'] = -s2_sorted[1].area_decile_from_midpoint[1]\n",
    "            result['s2_1_largest_hit_area'] = s2_sorted[1].largest_hit_area\n",
    "\n",
    "        return result"
   ]
  },
  {
   "cell_type": "code",
   "execution_count": 7,
   "metadata": {
    "collapsed": true
   },
   "outputs": [],
   "source": [
    "clean_cache = True\n",
    "if clean_cache:\n",
    "    import os\n",
    "    !rm -Rf ~/.cache/rootpy pax_* \n",
    "    dirname = '~/.cache/rootpy/x86_64-60403/dicts/'\n",
    "    if not os.path.exists(dirname):\n",
    "        os.makedirs(dirname)"
   ]
  },
  {
   "cell_type": "code",
   "execution_count": 8,
   "metadata": {
    "collapsed": false
   },
   "outputs": [
    {
     "name": "stderr",
     "output_type": "stream",
     "text": [
      "/project/lgrandi/anaconda3/envs/pax_head/lib/python3.4/site-packages/hax-2.4.0-py3.4.egg/hax/cuts.py:125: UserWarning: Pandas doesn't allow columns to be created via a new attribute name - see https://pandas.pydata.org/pandas-docs/stable/indexing.html#attribute-access\n",
      "  d.cut_history = prev_cuts + [passthrough_dict]\n"
     ]
    },
    {
     "name": "stdout",
     "output_type": "stream",
     "text": [
      "s2_0_area>1e6 selection: 17396 rows removed (9.93% passed)\n"
     ]
    },
    {
     "name": "stderr",
     "output_type": "stream",
     "text": [
      "/project/lgrandi/anaconda3/envs/pax_head/lib/python3.4/site-packages/hax-2.4.0-py3.4.egg/hax/cuts.py:53: UserWarning: Pandas doesn't allow columns to be created via a new attribute name - see https://pandas.pydata.org/pandas-docs/stable/indexing.html#attribute-access\n",
      "  d.cut_history = new_history\n"
     ]
    }
   ],
   "source": [
    "df = hax.minitrees.load(run_name, [LoneSignalsExtended, 'Basics', 'Fundamentals'], preselection=['s2_0_area>1e6'])"
   ]
  },
  {
   "cell_type": "code",
   "execution_count": null,
   "metadata": {
    "collapsed": true
   },
   "outputs": [],
   "source": []
  },
  {
   "cell_type": "markdown",
   "metadata": {},
   "source": [
    "## Analysis part"
   ]
  },
  {
   "cell_type": "code",
   "execution_count": 9,
   "metadata": {
    "collapsed": true
   },
   "outputs": [],
   "source": [
    "## Show all large S2 signals"
   ]
  },
  {
   "cell_type": "code",
   "execution_count": 10,
   "metadata": {
    "collapsed": false
   },
   "outputs": [],
   "source": [
    "from pax import configuration, dsputils\n",
    "conf = hax.utils.combine_pax_configs(\n",
    "    configuration.load_configuration('XENON1T'),\n",
    "    hax.runs.get_run_info(my_dataset, 'processor'))\n",
    "\n",
    "def adc_to_pe_f(channels=range(0,248)):\n",
    "    convs=[]\n",
    "    for channel in channels:\n",
    "        convs.append(dsputils.adc_to_pe(conf['DEFAULT'], channel=channel))\n",
    "    return convs\n",
    "\n",
    "Conversions=adc_to_pe_f(channels=range(0,248))\n",
    "#print(Conversions)"
   ]
  },
  {
   "cell_type": "code",
   "execution_count": 11,
   "metadata": {
    "collapsed": false
   },
   "outputs": [
    {
     "name": "stderr",
     "output_type": "stream",
     "text": [
      "ERROR:ROOT.PyROOT.TPyROOTApplication.ProcessLine] macro LinkDef.h not found in path .:/project/lgrandi/anaconda3/envs/pax_head/macros:\n"
     ]
    }
   ],
   "source": [
    "subdataset = hax.runs.datasets[hax.runs.datasets.number == my_dataset]\n",
    "\n",
    "n_events = int(subdataset.iloc[0]['trigger__events_built'])\n",
    "\n",
    "output = subdataset.iloc[0]['name']\n",
    "outputfile = output + \".root\"\n",
    "\n",
    "ROOT.gROOT.ProcessLine('.L LinkDef.h')\n",
    "f = ROOT.TFile(outputfile, \"recreate\")\n",
    "t1 = ROOT.TTree(\"tree\", \"tree\")\n",
    "\n",
    "evt        = np.zeros(1,  dtype=int)\n",
    "judge      = np.zeros(1,  dtype=int)\n",
    "\n",
    "from ROOT import std\n",
    "area_per_pmt = std.vector(float)()\n",
    "area_per_pmt_corrected = std.vector(float)()\n",
    "waveform_non_sat = std.vector(float)()\n",
    "\n",
    "t1.Branch( 'evt'       , evt       , 'evt/I'       )\n",
    "t1.Branch( 'judge'     , judge     , 'judge/I'     )\n",
    "t1.Branch( 'area_per_pmt',    'vector<float>', area_per_pmt)\n",
    "t1.Branch( 'area_per_pmt_corrected',    'vector<float>', area_per_pmt_corrected)\n",
    "#t1.Branch( 'area_per_pmt',    'vector<float>', area_per_pmt)\n",
    "\n",
    "info = hax.runs.get_run_info(my_dataset)"
   ]
  },
  {
   "cell_type": "code",
   "execution_count": 12,
   "metadata": {
    "collapsed": false
   },
   "outputs": [],
   "source": [
    "df = df[np.isfinite(df.s1)]\n",
    "df = df[df.s1>1000]\n",
    "\n",
    "df = df[df.s2>2e6]\n",
    "\n",
    "event_ids, start_sp, end_sp = df.event_number.values, df.s2_0_left.values, df.s2_0_right.values"
   ]
  },
  {
   "cell_type": "code",
   "execution_count": 13,
   "metadata": {
    "collapsed": false
   },
   "outputs": [],
   "source": [
    "# Program to perform saturation correction on Xe1T peaks\n",
    "def process_data(generate_plot=False, event_id=0, tot_event=10000):\n",
    "    start_event=0\n",
    "    if(generate_plot):\n",
    "        start_event=event_ids[event_id]\n",
    "        print('event', start_event)\n",
    "\n",
    "    # To process event\n",
    "    for ievt, event in enumerate(hax.raw_data.raw_events(my_dataset, event_numbers=np.arange(start_event,tot_event+start_event))):        \n",
    "        # Event ID\n",
    "        if(ievt % 5 == 0):\n",
    "            print (\"Event No \", ievt)\n",
    "        # Determine which peak to do saturation correction\n",
    "        start_sample = int(start_sp[event_id])\n",
    "        end_sample   = int(end_sp[event_id])\n",
    "        print(start_sample, end_sample)\n",
    "\n",
    "        # Storing pulses in pandas frame work for selections\n",
    "        pulses = event.pulses\n",
    "        p_left=np.array([p.left for p in pulses])\n",
    "        p_right=np.array([p.right for p in pulses])\n",
    "        p_channel=np.array([p.channel for p in pulses])\n",
    "        p_id=np.array([pid for pid in range(0,len(pulses))])\n",
    "        pulses_pd=pd.DataFrame({\"p_id\":p_id,\"p_left\":p_left,\"p_right\":p_right,\"p_channel\":p_channel})\n",
    "        pulses_pd=pulses_pd[(pulses_pd[\"p_left\"] <= end_sample) & (pulses_pd[\"p_right\"] >= start_sample)]    \n",
    "        \n",
    "        # defining waveforms\n",
    "        nPmts=248\n",
    "        wf_raw=np.zeros((nPmts,end_sample-start_sample))\n",
    "        channel_sat_status=np.zeros(nPmts) # set to 1 if channels has saturated channels\n",
    "        channel_sat_samples=np.zeros(nPmts) # total number of saturated samples per channel\n",
    "        channel_sat_left=np.zeros(nPmts) # total number of saturated samples per channel\n",
    "        channel_sat_right=np.zeros(nPmts) # total number of saturated samples per channel\n",
    "\n",
    "        # Read Raw data\n",
    "        if((end_sample-start_sample)>0):\n",
    "            for pmtid in range(0, nPmts):\n",
    "                channel_sat_left[pmtid]=end_sample\n",
    "                channel_sat_right[pmtid]=start_sample\n",
    "                \n",
    "                index_all=pulses_pd[(pulses_pd.p_channel==pmtid)].p_id.values\n",
    "#                if(len(index_all)>0):\n",
    "#                    print(index_all)\n",
    "                for index in index_all:\n",
    "                    p=pulses[int(index)]                    \n",
    "                    p_left=p.left\n",
    "                    p_right=p.right\n",
    "                    raw_data_adc = p.raw_data.astype(np.float16)                   \n",
    "                    for sample in range(start_sample,end_sample):\n",
    "                        if(p_left<=sample and p_right>=sample):\n",
    "                            adc=raw_data_adc[sample-p.left]\n",
    "                            adc=16000.0-adc                        \n",
    "                            wf_raw[pmtid,sample-start_sample]=adc * Conversions[pmtid]\n",
    "                            \n",
    "                            # determine whether there is saturation\n",
    "                            if (adc>=16000.0):\n",
    "                                channel_sat_status[pmtid]=1\n",
    "                                channel_sat_samples[pmtid]+=1   \n",
    "                                channel_sat_left[pmtid]=np.minimum(sample, channel_sat_left[pmtid])\n",
    "                                channel_sat_right[pmtid]=np.maximum(sample, channel_sat_right[pmtid])\n",
    "\n",
    "            # Sum of WFs\n",
    "            wf_sum_all=np.sum(wf_raw,axis=0) # all PMTs including the saturated channels\n",
    "            \n",
    "            # first deal with non-saturated PMTS, define Sum of nan_saturated WF     \n",
    "            wf_sum_nan_saturate=np.zeros_like(wf_sum_all) # Sum of non-saturated \n",
    "            wf_sum_saturate=np.zeros_like(wf_sum_all) # Sum of non-saturated \n",
    "\n",
    "            for sample in range(start_sample,end_sample):\n",
    "                for pmtid in range(0, nPmts):\n",
    "                    # first deal with non-saturated PMTS\n",
    "                    if(channel_sat_samples[pmtid]<1):\n",
    "                        wf_sum_nan_saturate[sample-start_sample]+=wf_raw[pmtid,sample-start_sample]\n",
    "                    else:\n",
    "                        wf_sum_saturate[sample-start_sample]+=wf_raw[pmtid,sample-start_sample]\n",
    "                        \n",
    "            area_nan_saturate=np.sum(wf_sum_nan_saturate) # Area of Total non-saturated WFs            \n",
    "            # The apply correction on saturated samples, need the shape of non-saturated WFs\n",
    "            # re-define pulse shape based on the derived model data\n",
    "            max_sample=np.argmax(wf_sum_nan_saturate) #sample sample at maximum\n",
    "            height=wf_sum_nan_saturate[max_sample]\n",
    "            peak_threshold_left=0.01*height\n",
    "            peak_threshold_right=0.03*height\n",
    "\n",
    "\n",
    "            # search for more precise peak left/right edges\n",
    "            peak_left_edge=max_sample\n",
    "            for sample in reversed(range(start_sample,max_sample+start_sample)):\n",
    "                if(wf_sum_nan_saturate[sample-start_sample]<=peak_threshold_left):\n",
    "                    peak_left_edge=sample\n",
    "                    break\n",
    "            \n",
    "            peak_right_edge=max_sample\n",
    "            for sample in range(max_sample+start_sample,end_sample):\n",
    "                if(wf_sum_nan_saturate[sample-start_sample]<=peak_threshold_right):\n",
    "                    peak_right_edge=sample\n",
    "                    break\n",
    "\n",
    "            # re-calculate area in the new window\n",
    "            area_nan_saturate=0.0\n",
    "            #print(start_sample,end_sample,max_sample,peak_left_edge,peak_right_edge)\n",
    "            \n",
    "            for sample in range(peak_left_edge,peak_right_edge):\n",
    "                area_nan_saturate+=wf_sum_nan_saturate[sample-start_sample]\n",
    "                            \n",
    "            # Area per pmt w/o saturation correction\n",
    "            area_pmt_before_correction=np.sum(wf_raw,axis=1)\n",
    "            area_pmt_after_correction=np.zeros(nPmts)\n",
    "            area_pmt_correction_factor=np.zeros(nPmts)\n",
    "            \n",
    "            pmtid_non_sat_plot=0\n",
    "            pmtid_sat_plot=0\n",
    "            for pmtid in range(0,nPmts):\n",
    "                area_model=0\n",
    "                area_data=0\n",
    "                #area_per_pmt.push_back(area_pmt_before_correction[pmtid]) # For ROOT\n",
    "#                for sample in range(start_sample,end_sample):\n",
    "                for sample in range(peak_left_edge,peak_right_edge):\n",
    "                    if(sample<channel_sat_left[pmtid] or sample>channel_sat_right[pmtid]):\n",
    "                        area_model+=wf_sum_nan_saturate[sample-start_sample]\n",
    "                        area_data+=wf_raw[pmtid,sample-start_sample]\n",
    "                try:\n",
    "                    area_pmt_correction_factor[pmtid]=area_data/area_model\n",
    "                except ZeroDivisionError:\n",
    "                    area_pmt_correction_factor[pmtid]=1\n",
    "                area_pmt_after_correction[pmtid]=area_nan_saturate*area_pmt_correction_factor[pmtid]\n",
    "                #area_per_pmt_corrected.push_back(area_pmt_after_correction[pmtid]) # for ROOT\n",
    "                if(channel_sat_samples[pmtid]>0):                    \n",
    "#                    print('PMT : '+str(pmtid)+'  Saturated samples:   '+str(channel_sat_samples[pmtid])+'  Correction Factor: '+str(area_pmt_after_correction[pmtid]/area_pmt_before_correction[pmtid]))\n",
    "                    if(area_pmt_after_correction[pmtid]>=area_pmt_after_correction[pmtid_sat_plot]):\n",
    "                        pmtid_sat_plot=pmtid\n",
    "\n",
    "                # largest non saturated wf id\n",
    "                else:\n",
    "                    if(area_pmt_after_correction[pmtid]>=area_pmt_after_correction[pmtid_non_sat_plot]):\n",
    "                        pmtid_non_sat_plot=pmtid\n",
    "            # plots\n",
    "            wf_pmt_non_sat_to_plot=wf_raw[pmtid_non_sat_plot,:]            \n",
    "            scaling_non_sat=np.sum(wf_pmt_non_sat_to_plot)/area_nan_saturate\n",
    "            wf_pmt_non_sat_to_plot=wf_pmt_non_sat_to_plot/scaling_non_sat\n",
    "            \n",
    "            wf_pmt_sat_to_plot=wf_raw[pmtid_sat_plot,:]            \n",
    "            wf_pmt_sat_to_plot=wf_pmt_sat_to_plot/area_pmt_correction_factor[pmtid_sat_plot]\n",
    "\n",
    "            \n",
    "            #t1.Fill()\n",
    "            \n",
    "            #area_per_pmt_corrected.clear()\n",
    "            #area_per_pmt.clear()\n",
    "            if (generate_plot):\n",
    "                return wf_pmt_non_sat_to_plot,wf_pmt_sat_to_plot , wf_sum_nan_saturate, start_sample, end_sample,peak_left_edge,peak_right_edge #, wf_raw[pmt_id_test]\n",
    "    #t1.Write()\n",
    "    f.Close()\n",
    "    #return 0,0,0,0,0,0,0"
   ]
  },
  {
   "cell_type": "code",
   "execution_count": 14,
   "metadata": {
    "collapsed": false
   },
   "outputs": [
    {
     "name": "stdout",
     "output_type": "stream",
     "text": [
      "event 902\n"
     ]
    },
    {
     "name": "stderr",
     "output_type": "stream",
     "text": [
      "DEBUG:Mongo client maker] Successfully pinged client\n",
      "DEBUG:processor] Logging initialized with level INFO\n",
      "INFO:processor] This is PAX version 6.9.0, running with configuration for XENON1T.\n",
      "DEBUG:SimulationCore] Inferred s1_ER_primary_excimer_fraction 0.9635065255261928\n",
      "DEBUG:SimulationCore] Inferred s1_ER_recombination_time 0.09936380236983396 ns\n",
      "DEBUG:SimulationCore] Simulating 2 samples before and 20 samples after PMT pulse centers.\n",
      "DEBUG:InterpolatingMap] Loading JSON map /home/zhut/.local/lib/python3.4/site-packages/pax-6.9.0-py3.4.egg/pax/data/s1_xyz_XENON1T_kr83m-sr1_pax-664_fdc-adcorrtpf.json\n",
      "DEBUG:InterpolatingMap] Map name: XENON1T S1(x,y,z) relative light yield map\n",
      "DEBUG:InterpolatingMap] Map description:\n",
      "    XENON1T S1 mean light yield map \n",
      "    Extracted from 32.1 keV Kr83m line\n",
      "    Data from Kr83m SR1 calibrations\n",
      "    Processed by Dan Codere with pax_v6.6.3 and new gains\n",
      "    Uses FDC from Junji's other corrections\n",
      "    Production Note: https://github.com/XENON1T/XeAnalysisScripts/blob/master/\n",
      "    DoubleScatter_Analysis/notes/Xe1T_Kr83m_LCE-Map_SR1_NewGains.ipynb\n",
      "    \n",
      "    Map created by Ted Berger; May 4 2017\n",
      "    \n",
      "DEBUG:InterpolatingMap] Map names found: ['map']\n",
      "DEBUG:InterpolatingMap] Loading JSON map /home/zhut/.local/lib/python3.4/site-packages/pax-6.9.0-py3.4.egg/pax/data/s2_xy_map_v2.1.json\n",
      "DEBUG:InterpolatingMap] Map name: XENON1T S2(x, y) correction map\n",
      "DEBUG:InterpolatingMap] Map description:\n",
      "    XENON1T S2 xy correction map\n",
      "    Version 2.0\n",
      "    Created 22nd March 2017 by Adam Brown\n",
      "    \n",
      "    Extracted from February/March 2017 Kr83m calibration (summed 41.6 keV peak)\n",
      "    \n",
      "    Made using data processed with pax v6.6.4\n",
      "    \n",
      "    See note: xenon:xenon1t:adam:fv-study:s2-correction-xy-kr83m.html\n",
      "    \n",
      "DEBUG:InterpolatingMap] Map names found: ['map', 'map_bottom', 'map_top']\n",
      "DEBUG:InterpolatingMap] Loading JSON map /home/zhut/.local/lib/python3.4/site-packages/pax-6.9.0-py3.4.egg/pax/data/FDC-SR1_AdCorrTPF.json.gz\n",
      "DEBUG:InterpolatingMap] Map name: Field Distortion Correction\n",
      "DEBUG:InterpolatingMap] Map description:\n",
      "    \n",
      "    Maps to convert between distorted (observed) and true (r,z) interaction positions\n",
      "    Available maps:\n",
      "        to_true_r(r_obs, z_obs): add this to the observed r to get the true r\n",
      "        to_true_z(r_obs, z_obs): add this to the observed z to get the true z\n",
      "        to_distorted_z(r_true, z_true): add this to the true z to get the distorted r\n",
      "        to_distorted_z(r_true, z_true): add this to the true r to get the distorted r\n",
      "    Note: r-correction only!\n",
      "    \n",
      "    Data from Junji's simulation: https://xecluster.lngs.infn.it/dokuwiki/doku.php?\n",
      "        id=xenon:xenon1t:junji:comsol:dir5:fine_tune_science1#other_corrections\n",
      "    \n",
      "    Interpolated to reduce/regularize the sampled points, converted to pax format\n",
      "    Ted, 13 April 2017\n",
      "    \n",
      "DEBUG:InterpolatingMap] Map names found: ['dimensions', 'to_distorted_r', 'to_distorted_z', 'to_true_r', 'to_true_z']\n",
      "DEBUG:PatternFitter] Loaded pattern file named: XENON1T S2 relative LCE per pmt map\n",
      "DEBUG:PatternFitter] Description:\n",
      "    \n",
      "    XENON1T S2 relative LCE per pmt map. \n",
      "    0.5cm * 0.5cm bin histogram from Lutz' simulation results.\n",
      "    This includes only the top PMTs!\n",
      "    Made with XeAnalysisScripts/mapmaking\n",
      "    Jelle, Bart, 04 December 2017\n",
      "    From file v210_geometry-update.root\n",
      "    \n",
      "DEBUG:PatternFitter] Data shape: (200, 200, 127)\n",
      "DEBUG:PatternFitter] Will zoom in by factor 2\n",
      "DEBUG:PatternFitter] Coordinate ranges: -49.75-49.75 (400 points), -49.75-49.75 (400 points)\n",
      "DEBUG:SimulationCore] Initializing s1 patterns...\n",
      "DEBUG:PatternFitter] Loaded pattern file named: XENON1T S1 relative LCE per-PMT map\n",
      "DEBUG:PatternFitter] Description:\n",
      "    \n",
      "    XENON1T S1 relative LCE per-PMT map. \n",
      "    Interpolated from Lutz's simulation (MC v0.2.1/v0.3.0) with these scripts:\n",
      "    https://github.com/XENON1T/MCAnalysisScripts/tree/master/PerPMT_LCE_Time\n",
      "    \n",
      "    LA, 28 August 2017 \n",
      "    \n",
      "DEBUG:PatternFitter] Data shape: (23, 23, 59, 248)\n",
      "DEBUG:PatternFitter] Will zoom in by factor 1\n",
      "DEBUG:PatternFitter] Coordinate ranges: -48.78260869565217-48.78260869565217 (23 points), -48.78260869565217-48.78260869565217 (23 points), -103.50923728813558-6.779237288135596 (59 points)\n",
      "DEBUG:processor] User-defined input override: /project/lgrandi/xenon1t/raw_for_waveforms/170419_0228\n",
      "DEBUG:processor] Search path for plugins is ['./plugins', '/home/zhut/.local/lib/python3.4/site-packages/pax-6.9.0-py3.4.egg/pax/plugins', '/home/zhut/.local/lib/python3.4/site-packages/pax-6.9.0-py3.4.egg/pax/plugins/signal_processing/', '/home/zhut/.local/lib/python3.4/site-packages/pax-6.9.0-py3.4.egg/pax/plugins/interaction_processing/', '/home/zhut/.local/lib/python3.4/site-packages/pax-6.9.0-py3.4.egg/pax/plugins/posrec/', '/home/zhut/.local/lib/python3.4/site-packages/pax-6.9.0-py3.4.egg/pax/plugins/peak_processing/', '/home/zhut/.local/lib/python3.4/site-packages/pax-6.9.0-py3.4.egg/pax/plugins/plotting/', '/home/zhut/.local/lib/python3.4/site-packages/pax-6.9.0-py3.4.egg/pax/plugins/io/']\n",
      "DEBUG:processor] Instantiating Zip.ReadZipped\n",
      "DEBUG:ReadZipped] InputFromFolder: Directory mode\n",
      "DEBUG:ReadZipped] InputFromFolder: Found these files: ['/project/lgrandi/xenon1t/raw_for_waveforms/170419_0228/XENON1T-8861-000000000-000000999-000001000.zip', '/project/lgrandi/xenon1t/raw_for_waveforms/170419_0228/XENON1T-8861-000001000-000001999-000001000.zip', '/project/lgrandi/xenon1t/raw_for_waveforms/170419_0228/XENON1T-8861-000002000-000002999-000001000.zip', '/project/lgrandi/xenon1t/raw_for_waveforms/170419_0228/XENON1T-8861-000003000-000003999-000001000.zip', '/project/lgrandi/xenon1t/raw_for_waveforms/170419_0228/XENON1T-8861-000004000-000004999-000001000.zip', '/project/lgrandi/xenon1t/raw_for_waveforms/170419_0228/XENON1T-8861-000005000-000005999-000001000.zip', '/project/lgrandi/xenon1t/raw_for_waveforms/170419_0228/XENON1T-8861-000006000-000006999-000001000.zip', '/project/lgrandi/xenon1t/raw_for_waveforms/170419_0228/XENON1T-8861-000007000-000007999-000001000.zip', '/project/lgrandi/xenon1t/raw_for_waveforms/170419_0228/XENON1T-8861-000008000-000008999-000001000.zip', '/project/lgrandi/xenon1t/raw_for_waveforms/170419_0228/XENON1T-8861-000009000-000009999-000001000.zip', '/project/lgrandi/xenon1t/raw_for_waveforms/170419_0228/XENON1T-8861-000010000-000010999-000001000.zip', '/project/lgrandi/xenon1t/raw_for_waveforms/170419_0228/XENON1T-8861-000011000-000011999-000001000.zip', '/project/lgrandi/xenon1t/raw_for_waveforms/170419_0228/XENON1T-8861-000012000-000012999-000001000.zip', '/project/lgrandi/xenon1t/raw_for_waveforms/170419_0228/XENON1T-8861-000013000-000013999-000001000.zip', '/project/lgrandi/xenon1t/raw_for_waveforms/170419_0228/XENON1T-8861-000014000-000014999-000001000.zip', '/project/lgrandi/xenon1t/raw_for_waveforms/170419_0228/XENON1T-8861-000015000-000015999-000001000.zip', '/project/lgrandi/xenon1t/raw_for_waveforms/170419_0228/XENON1T-8861-000016000-000016999-000001000.zip', '/project/lgrandi/xenon1t/raw_for_waveforms/170419_0228/XENON1T-8861-000017000-000017999-000001000.zip', '/project/lgrandi/xenon1t/raw_for_waveforms/170419_0228/XENON1T-8861-000018000-000018999-000001000.zip', '/project/lgrandi/xenon1t/raw_for_waveforms/170419_0228/XENON1T-8861-000019000-000019312-000000313.zip']\n",
      "DEBUG:ReadZipped] InputFromFolder: Initializing /project/lgrandi/xenon1t/raw_for_waveforms/170419_0228/XENON1T-8861-000000000-000000999-000001000.zip\n",
      "DEBUG:ReadZipped] InputFromFolder: Initializing /project/lgrandi/xenon1t/raw_for_waveforms/170419_0228/XENON1T-8861-000001000-000001999-000001000.zip\n",
      "DEBUG:ReadZipped] InputFromFolder: Initializing /project/lgrandi/xenon1t/raw_for_waveforms/170419_0228/XENON1T-8861-000002000-000002999-000001000.zip\n",
      "DEBUG:ReadZipped] InputFromFolder: Initializing /project/lgrandi/xenon1t/raw_for_waveforms/170419_0228/XENON1T-8861-000003000-000003999-000001000.zip\n",
      "DEBUG:ReadZipped] InputFromFolder: Initializing /project/lgrandi/xenon1t/raw_for_waveforms/170419_0228/XENON1T-8861-000004000-000004999-000001000.zip\n",
      "DEBUG:ReadZipped] InputFromFolder: Initializing /project/lgrandi/xenon1t/raw_for_waveforms/170419_0228/XENON1T-8861-000005000-000005999-000001000.zip\n",
      "DEBUG:ReadZipped] InputFromFolder: Initializing /project/lgrandi/xenon1t/raw_for_waveforms/170419_0228/XENON1T-8861-000006000-000006999-000001000.zip\n",
      "DEBUG:ReadZipped] InputFromFolder: Initializing /project/lgrandi/xenon1t/raw_for_waveforms/170419_0228/XENON1T-8861-000007000-000007999-000001000.zip\n",
      "DEBUG:ReadZipped] InputFromFolder: Initializing /project/lgrandi/xenon1t/raw_for_waveforms/170419_0228/XENON1T-8861-000008000-000008999-000001000.zip\n",
      "DEBUG:ReadZipped] InputFromFolder: Initializing /project/lgrandi/xenon1t/raw_for_waveforms/170419_0228/XENON1T-8861-000009000-000009999-000001000.zip\n",
      "DEBUG:ReadZipped] InputFromFolder: Initializing /project/lgrandi/xenon1t/raw_for_waveforms/170419_0228/XENON1T-8861-000010000-000010999-000001000.zip\n",
      "DEBUG:ReadZipped] InputFromFolder: Initializing /project/lgrandi/xenon1t/raw_for_waveforms/170419_0228/XENON1T-8861-000011000-000011999-000001000.zip\n",
      "DEBUG:ReadZipped] InputFromFolder: Initializing /project/lgrandi/xenon1t/raw_for_waveforms/170419_0228/XENON1T-8861-000012000-000012999-000001000.zip\n",
      "DEBUG:ReadZipped] InputFromFolder: Initializing /project/lgrandi/xenon1t/raw_for_waveforms/170419_0228/XENON1T-8861-000013000-000013999-000001000.zip\n",
      "DEBUG:ReadZipped] InputFromFolder: Initializing /project/lgrandi/xenon1t/raw_for_waveforms/170419_0228/XENON1T-8861-000014000-000014999-000001000.zip\n",
      "DEBUG:ReadZipped] InputFromFolder: Initializing /project/lgrandi/xenon1t/raw_for_waveforms/170419_0228/XENON1T-8861-000015000-000015999-000001000.zip\n",
      "DEBUG:ReadZipped] InputFromFolder: Initializing /project/lgrandi/xenon1t/raw_for_waveforms/170419_0228/XENON1T-8861-000016000-000016999-000001000.zip\n",
      "DEBUG:ReadZipped] InputFromFolder: Initializing /project/lgrandi/xenon1t/raw_for_waveforms/170419_0228/XENON1T-8861-000017000-000017999-000001000.zip\n",
      "DEBUG:ReadZipped] InputFromFolder: Initializing /project/lgrandi/xenon1t/raw_for_waveforms/170419_0228/XENON1T-8861-000018000-000018999-000001000.zip\n",
      "DEBUG:ReadZipped] InputFromFolder: Initializing /project/lgrandi/xenon1t/raw_for_waveforms/170419_0228/XENON1T-8861-000019000-000019312-000000313.zip\n",
      "INFO:ReadZipped] InputFromFolder: Selecting file /project/lgrandi/xenon1t/raw_for_waveforms/170419_0228/XENON1T-8861-000000000-000000999-000001000.zip (number 1/20 in folder) for reading\n",
      "DEBUG:processor] Instantiated Zip.ReadZipped succesfully\n",
      "DEBUG:processor] Instantiating Pickle.DecodeZPickle\n",
      "DEBUG:DecodeZPickle] DecodeZPickle does not define a startup\n",
      "DEBUG:processor] Instantiated Pickle.DecodeZPickle succesfully\n",
      "DEBUG:processor] Instantiating CheckPulses.SortPulses\n",
      "DEBUG:SortPulses] SortPulses does not define a startup\n",
      "DEBUG:processor] Instantiated CheckPulses.SortPulses succesfully\n",
      "DEBUG:processor] Instantiating CheckPulses.ConcatenateAdjacentPulses\n",
      "DEBUG:ConcatenateAdjacentPulses] ConcatenateAdjacentPulses does not define a startup\n",
      "DEBUG:processor] Instantiated CheckPulses.ConcatenateAdjacentPulses succesfully\n",
      "DEBUG:processor] Instantiating Dummy.DummyOutput\n",
      "DEBUG:DummyOutput] DummyOutput does not define a startup\n",
      "DEBUG:processor] Instantiated Dummy.DummyOutput succesfully\n",
      "DEBUG:processor] DecodeZPickle (step 0/4)\n",
      "DEBUG:processor] SortPulses (step 1/4)\n",
      "DEBUG:processor] ConcatenateAdjacentPulses (step 2/4)\n",
      "DEBUG:processor] DummyOutput (step 3/4)\n"
     ]
    },
    {
     "name": "stdout",
     "output_type": "stream",
     "text": [
      "Event No  0\n",
      "102556 113325\n"
     ]
    }
   ],
   "source": [
    "# plot the WFs.\n",
    "wf_pmt_non_sat_to_plot,wf_pmt_sat_to_plot, wf_sum_nan_saturate,start_sample, end_sample, peak_left_edge,peak_right_edge=process_data(True,7,1)"
   ]
  },
  {
   "cell_type": "code",
   "execution_count": 15,
   "metadata": {
    "collapsed": false
   },
   "outputs": [
    {
     "name": "stdout",
     "output_type": "stream",
     "text": [
      "10769\n",
      "10769\n"
     ]
    },
    {
     "data": {
      "image/png": "[encoded data removed]",
      "text/plain": [
       "<matplotlib.figure.Figure at 0x7f639c0cbdd8>"
      ]
     },
     "metadata": {},
     "output_type": "display_data"
    }
   ],
   "source": [
    "print(len(wf_sum_nan_saturate))\n",
    "\n",
    "print(end_sample-start_sample)\n",
    "samples=np.zeros(end_sample-start_sample)\n",
    "for i in range(0,len(samples)):\n",
    "#    samples[i]=start_sample+i\n",
    "    samples[i]=i\n",
    "\n",
    "plt.figure(figsize=(8, 6))\n",
    "\n",
    "my_colors = 'rbkymc'\n",
    "\n",
    "plt.scatter(samples, wf_sum_nan_saturate, c='r', edgecolors='None', marker='s', s=5, label='Sum Non Sat (Model)')\n",
    "plt.scatter(samples, wf_pmt_non_sat_to_plot, c='b', edgecolors='None', marker='s', s=5, label='Largest Non Sat PMT')\n",
    "plt.scatter(samples, wf_pmt_sat_to_plot, c='g', edgecolors='None', marker='s', s=5, label='Largest Sat PMT')\n",
    "\n",
    "plt.plot((peak_left_edge-start_sample, peak_left_edge-start_sample), (0, 0.5*np.max(wf_sum_nan_saturate)), 'g')\n",
    "plt.plot((peak_right_edge-start_sample, peak_right_edge-start_sample), (0, 0.5*np.max(wf_sum_nan_saturate)), 'g')\n",
    "\n",
    "plt.xlim(0, (end_sample-start_sample)*0.14)\n",
    "plt.ylim(-5, np.amax(wf_sum_nan_saturate)*1.1)\n",
    "#plt.ylim(-5, 2000)\n",
    "\n",
    "plt.legend(loc='upper left', fontsize=15, markerscale=2)\n",
    "plt.title('WF of saturated and normal PMTs')\n",
    "plt.xlabel('Sample', fontsize=18)\n",
    "plt.ylabel('PE per Sample', fontsize=18)\n",
    "plt.xticks(fontsize=15)\n",
    "plt.yticks(fontsize=15)\n",
    "\n",
    "plt.show()\n",
    "    \n",
    "#print(samples)"
   ]
  },
  {
   "cell_type": "code",
   "execution_count": null,
   "metadata": {
    "collapsed": true
   },
   "outputs": [],
   "source": []
  },
  {
   "cell_type": "code",
   "execution_count": null,
   "metadata": {
    "collapsed": true
   },
   "outputs": [],
   "source": []
  }
 ],
 "metadata": {
  "anaconda-cloud": {},
  "kernelspec": {
   "display_name": "Python 3",
   "language": "python",
   "name": "python3"
  },
  "language_info": {
   "codemirror_mode": {
    "name": "ipython",
    "version": 3
   },
   "file_extension": ".py",
   "mimetype": "text/x-python",
   "name": "python",
   "nbconvert_exporter": "python",
   "pygments_lexer": "ipython3",
   "version": "3.4.4"
  }
 },
 "nbformat": 4,
 "nbformat_minor": 0
}
