{
 "cells": [
  {
   "cell_type": "code",
   "execution_count": null,
   "metadata": {
    "collapsed": false
   },
   "outputs": [],
   "source": [
    "from IPython.display import HTML\n",
    "\n",
    "HTML('''<script>\n",
    "code_show=true; \n",
    "function code_toggle() {\n",
    " if (code_show){\n",
    " $('div.input').hide();\n",
    " } else {\n",
    " $('div.input').show();\n",
    " }\n",
    " code_show = !code_show\n",
    "} \n",
    "$( document ).ready(code_toggle);\n",
    "</script>\n",
    "<form action=\"javascript:code_toggle()\"><input type=\"submit\" value=\"Click to toggle code\"></form>''')"
   ]
  },
  {
   "cell_type": "markdown",
   "metadata": {},
   "source": [
    "# Data based saturation correction for high energy events in XENON1T\n",
    "* Yuehuan Wei and Fei Gao, Dec 12th, 2016\n",
    "\n",
    "\n"
   ]
  },
  {
   "cell_type": "code",
   "execution_count": 1,
   "metadata": {
    "collapsed": false
   },
   "outputs": [],
   "source": [
    "import numpy as np\n",
    "import matplotlib\n",
    "import matplotlib.pyplot as plt\n",
    "from scipy.optimize import curve_fit       # curve fitting libraries\n",
    "import pandas as pd\n",
    "from matplotlib.colors import LogNorm\n",
    "from collections import defaultdict\n",
    "from array import array\n",
    "import pylab\n",
    "import ROOT"
   ]
  },
  {
   "cell_type": "code",
   "execution_count": 4,
   "metadata": {
    "collapsed": false
   },
   "outputs": [
    {
     "name": "stderr",
     "output_type": "stream",
     "text": [
      "WARNING:hax.__init__] You're not at a XENON analysis facility, or hax can't detect at which analysis facility you are.\n"
     ]
    }
   ],
   "source": [
    "### hax ###\n",
    "import hax\n",
    "hax.__version__\n",
    "\n",
    "hax.init(raw_data_access_mode = 'local',\n",
    "         raw_data_local_path = '/Users/feigao/data/xenon1t/raw/', \n",
    "         main_data_paths= ['/Users/feigao/data/xenon1t/processed/',''],\n",
    "         minitree_paths= ['/Users/feigao/data/xenon1t/minitrees/',''],\n",
    "         pax_version_policy = 'loose',\n",
    "         use_rundb=False,\n",
    "         #make_minitree=False,\n",
    "        )"
   ]
  },
  {
   "cell_type": "code",
   "execution_count": 12,
   "metadata": {
    "collapsed": false
   },
   "outputs": [
    {
     "data": {
      "text/plain": [
       "'/Users/feigao/data/xenon1t/processed/170419_0228.root'"
      ]
     },
     "execution_count": 12,
     "metadata": {},
     "output_type": "execute_result"
    }
   ],
   "source": [
    "my_dataset=8861\n",
    "subdataset = hax.runs.datasets[hax.runs.datasets.number == my_dataset]\n",
    "run_name = subdataset.iloc[0]['name']\n",
    "\n",
    "from hax import runs\n",
    "from hax.utils import find_file_in_folders\n",
    "find_file_in_folders(run_name + '.root', hax.config['main_data_paths'])"
   ]
  },
  {
   "cell_type": "code",
   "execution_count": 5,
   "metadata": {
    "collapsed": true
   },
   "outputs": [],
   "source": [
    "# df = hax.minitrees.load(run_name, ['LoneSignals','TotalProperties'], preselection=['s2_0_area>1e6'])"
   ]
  },
  {
   "cell_type": "code",
   "execution_count": 8,
   "metadata": {
    "collapsed": false
   },
   "outputs": [],
   "source": [
    "from hax.minitrees import TreeMaker\n",
    "from hax.corrections_handler import CorrectionsHandler\n",
    "\n",
    "class LoneSignalsExtended(TreeMaker):\n",
    "    __version__ = '0.31'\n",
    "    extra_branches = ['peaks.*']\n",
    "    extra_metadata = hax.config['corrections_definitions']\n",
    "    corrections_handler = CorrectionsHandler()\n",
    "\n",
    "    def extract_data(self, event):\n",
    "        peaks = event.peaks\n",
    "        if not len(peaks):\n",
    "            return dict()\n",
    "        s1_sorted = list(\n",
    "            sorted([p for p in event.peaks if p.type == 's1' and p.detector == 'tpc'], key=lambda p: p.area,\n",
    "                   reverse=True))\n",
    "        s2_sorted = list(\n",
    "            sorted([p for p in event.peaks if p.type == 's2' and p.detector == 'tpc'], key=lambda p: p.area,\n",
    "                   reverse=True))\n",
    "        unknown = [peak for peak in peaks if peak.type == 'unknown' and peak.detector == \"tpc\"]\n",
    "        result = dict(n_pulses=event.n_pulses, n_peaks=len(peaks), n_interactions=len(event.interactions))\n",
    "        result['unknown_tot'] = np.sum([peak.area for peak in unknown])\n",
    "        result['s1_area_tot'] = np.sum([peak.area for peak in s1_sorted])\n",
    "        result['s2_area_tot'] = np.sum([peak.area for peak in s2_sorted])\n",
    "        result['n_s1'] = len(s1_sorted)\n",
    "        result['n_s2'] = len(s2_sorted)\n",
    "\n",
    "        if len(s1_sorted):\n",
    "            result['area_before_largest_s1'] = np.sum(\n",
    "                [p.area for p in peaks if p.center_time < s1_sorted[0].center_time])\n",
    "            s1_0_recpos = s1_sorted[0].reconstructed_positions\n",
    "            for rp in s1_0_recpos:\n",
    "                if (rp.algorithm == 'PosRecTopPatternFit'):\n",
    "                    s1_0_recpos_pf = rp\n",
    "                    result['s1_0_x'] = s1_0_recpos_pf.x\n",
    "                    result['s1_0_y'] = s1_0_recpos_pf.y\n",
    "                    result['s1_0_posrec_goodness_of_fit'] = s1_0_recpos_pf.goodness_of_fit\n",
    "\n",
    "            result['s1_0_area'] = s1_sorted[0].area\n",
    "            result['s1_0_center_time'] = s1_sorted[0].center_time\n",
    "            result['s1_0_aft'] = s1_sorted[0].area_fraction_top\n",
    "            result['s1_0_50p_width'] = s1_sorted[0].range_area_decile[5]\n",
    "            result['s1_0_90p_width'] = s1_sorted[0].range_area_decile[9]\n",
    "            result['s1_0_rise_time'] = -s1_sorted[0].area_decile_from_midpoint[1]\n",
    "            result['s1_0_largest_hit_area'] = s1_sorted[0].largest_hit_area\n",
    "\n",
    "        if len(s2_sorted) > 0:\n",
    "            result['area_before_largest_s2'] = np.sum(p.area for p in peaks if p.center_time < s2_sorted[0].center_time)\n",
    "            s2_0_recpos = s2_sorted[0].reconstructed_positions\n",
    "            for rp in s2_0_recpos:\n",
    "                if (rp.algorithm == 'PosRecTopPatternFit'):\n",
    "                    s2_0_recpos_pf = rp\n",
    "                    result['s2_0_x'] = s2_0_recpos_pf.x\n",
    "                    result['s2_0_y'] = s2_0_recpos_pf.y\n",
    "                    result['s2_0_posrec_goodness_of_fit'] = s2_0_recpos_pf.goodness_of_fit\n",
    "\n",
    "                if (rp.algorithm == 'PosRecNeuralNet'):\n",
    "                    s2_0_recpos_pf = rp\n",
    "                    result['s2_0_x_nn'] = s2_0_recpos_pf.x\n",
    "                    result['s2_0_y_nn'] = s2_0_recpos_pf.y\n",
    "                    result['s2_0_posrec_goodness_of_fit_nn'] = s2_0_recpos_pf.goodness_of_fit\n",
    "\n",
    "            result['s2_0_area'] = s2_sorted[0].area\n",
    "            result['s2_0_left'] = s2_sorted[0].left\n",
    "            result['s2_0_right'] = s2_sorted[0].right\n",
    "            result['s2_0_center_time'] = s2_sorted[0].center_time\n",
    "            result['s2_0_aft'] = s2_sorted[0].area_fraction_top\n",
    "            result['s2_0_50p_width'] = s2_sorted[0].range_area_decile[5]\n",
    "            result['s2_0_rise_time'] = -s2_sorted[0].area_decile_from_midpoint[1]\n",
    "            result['s2_0_largest_hit_area'] = s2_sorted[0].largest_hit_area\n",
    "\n",
    "        if len(s2_sorted) > 1:\n",
    "            s2_1_recpos = s2_sorted[1].reconstructed_positions\n",
    "            for rp in s2_1_recpos:\n",
    "                if (rp.algorithm == 'PosRecTopPatternFit'):\n",
    "                    s2_1_recpos_pf = rp\n",
    "                    result['s2_1_x'] = s2_1_recpos_pf.x\n",
    "                    result['s2_1_y'] = s2_1_recpos_pf.y\n",
    "                    result['s2_1_posrec_goodness_of_fit'] = s2_1_recpos_pf.goodness_of_fit\n",
    "\n",
    "                if (rp.algorithm == 'PosRecNeuralNet'):\n",
    "                    s2_1_recpos_pf = rp\n",
    "                    result['s2_1_x_nn'] = s2_1_recpos_pf.x\n",
    "                    result['s2_1_y_nn'] = s2_1_recpos_pf.y\n",
    "                    result['s2_1_posrec_goodness_of_fit_nn'] = s2_1_recpos_pf.goodness_of_fit\n",
    "\n",
    "            result['s2_1_area'] = s2_sorted[1].area\n",
    "            result['s2_1_center_time'] = s2_sorted[1].center_time\n",
    "            result['s2_1_aft'] = s2_sorted[1].area_fraction_top\n",
    "            result['s2_1_50p_width'] = s2_sorted[1].range_area_decile[5]\n",
    "            result['s2_1_rise_time'] = -s2_sorted[1].area_decile_from_midpoint[1]\n",
    "            result['s2_1_largest_hit_area'] = s2_sorted[1].largest_hit_area\n",
    "\n",
    "        return result"
   ]
  },
  {
   "cell_type": "code",
   "execution_count": 10,
   "metadata": {
    "collapsed": true
   },
   "outputs": [],
   "source": [
    "clean_cache = True\n",
    "if clean_cache:\n",
    "    import os\n",
    "    !rm -Rf ~/.cache/rootpy pax_* \n",
    "    dirname = '~/.cache/rootpy/x86_64-60403/dicts/'\n",
    "    if not os.path.exists(dirname):\n",
    "        os.makedirs(dirname)"
   ]
  },
  {
   "cell_type": "code",
   "execution_count": 23,
   "metadata": {
    "collapsed": false
   },
   "outputs": [
    {
     "name": "stdout",
     "output_type": "stream",
     "text": [
      "s2_0_area>1e6 selection: 17396 rows removed (9.93% passed)\n"
     ]
    }
   ],
   "source": [
    "df = hax.minitrees.load(run_name, [LoneSignalsExtended, 'Basics', 'Fundamentals'], preselection=['s2_0_area>1e6'])"
   ]
  },
  {
   "cell_type": "code",
   "execution_count": null,
   "metadata": {
    "collapsed": true
   },
   "outputs": [],
   "source": []
  },
  {
   "cell_type": "markdown",
   "metadata": {},
   "source": [
    "## Analysis part"
   ]
  },
  {
   "cell_type": "code",
   "execution_count": null,
   "metadata": {
    "collapsed": true
   },
   "outputs": [],
   "source": [
    "## Show all large S2 signals"
   ]
  },
  {
   "cell_type": "code",
   "execution_count": 19,
   "metadata": {
    "collapsed": false
   },
   "outputs": [],
   "source": [
    "from pax import configuration, dsputils\n",
    "conf = hax.utils.combine_pax_configs(\n",
    "    configuration.load_configuration('XENON1T'),\n",
    "    hax.runs.get_run_info(my_dataset, 'processor'))\n",
    "\n",
    "def adc_to_pe_f(channels=range(0,248)):\n",
    "    convs=[]\n",
    "    for channel in channels:\n",
    "        convs.append(dsputils.adc_to_pe(conf['DEFAULT'], channel=channel))\n",
    "    return convs\n",
    "\n",
    "Conversions=adc_to_pe_f(channels=range(0,248))\n",
    "#print(Conversions)"
   ]
  },
  {
   "cell_type": "code",
   "execution_count": 50,
   "metadata": {
    "collapsed": true
   },
   "outputs": [],
   "source": [
    "subdataset = hax.runs.datasets[hax.runs.datasets.number == my_dataset]\n",
    "\n",
    "n_events = int(subdataset.iloc[0]['trigger__events_built'])\n",
    "\n",
    "output = subdataset.iloc[0]['name']\n",
    "outputfile = output + \".root\"\n",
    "\n",
    "ROOT.gROOT.ProcessLine('.L LinkDef.h')\n",
    "f = ROOT.TFile(outputfile, \"recreate\")\n",
    "t1 = ROOT.TTree(\"tree\", \"tree\")\n",
    "\n",
    "evt        = np.zeros(1,  dtype=int)\n",
    "judge      = np.zeros(1,  dtype=int)\n",
    "\n",
    "from ROOT import std\n",
    "area_per_pmt = std.vector(float)()\n",
    "area_per_pmt_corrected = std.vector(float)()\n",
    "waveform_non_sat = std.vector(float)()\n",
    "\n",
    "t1.Branch( 'evt'       , evt       , 'evt/I'       )\n",
    "t1.Branch( 'judge'     , judge     , 'judge/I'     )\n",
    "t1.Branch( 'area_per_pmt',    'vector<float>', area_per_pmt)\n",
    "t1.Branch( 'area_per_pmt_corrected',    'vector<float>', area_per_pmt_corrected)\n",
    "#t1.Branch( 'area_per_pmt',    'vector<float>', area_per_pmt)\n",
    "\n",
    "info = hax.runs.get_run_info(my_dataset)"
   ]
  },
  {
   "cell_type": "code",
   "execution_count": 101,
   "metadata": {
    "collapsed": false
   },
   "outputs": [],
   "source": [
    "df = df[np.isfinite(df.s1)]\n",
    "df = df[df.s1>1000]\n",
    "\n",
    "df = df[df.s2>2e6]\n",
    "\n",
    "event_ids, start_sp, end_sp = df.event_number.values, df.s2_0_left.values, df.s2_0_right.values"
   ]
  },
  {
   "cell_type": "code",
   "execution_count": 104,
   "metadata": {
    "collapsed": false
   },
   "outputs": [],
   "source": [
    "# Program to perform saturation correction on Xe1T peaks\n",
    "def process_data(generate_plot=False, event_id=0, tot_event=10000):\n",
    "    start_event=0\n",
    "    if(generate_plot):\n",
    "        start_event=event_ids[event_id]\n",
    "        print('event', start_event)\n",
    "\n",
    "    # To process event\n",
    "    for ievt, event in enumerate(hax.raw_data.raw_events(my_dataset, event_numbers=np.arange(start_event,tot_event+start_event))):        \n",
    "        # Event ID\n",
    "        if(ievt % 5 == 0):\n",
    "            print (\"Event No \", ievt)\n",
    "        # Determine which peak to do saturation correction\n",
    "        start_sample = int(start_sp[event_id])\n",
    "        end_sample   = int(end_sp[event_id])\n",
    "        print(start_sample, end_sample)\n",
    "\n",
    "        # Storing pulses in pandas frame work for selections\n",
    "        pulses = event.pulses\n",
    "        p_left=np.array([p.left for p in pulses])\n",
    "        p_right=np.array([p.right for p in pulses])\n",
    "        p_channel=np.array([p.channel for p in pulses])\n",
    "        p_id=np.array([pid for pid in range(0,len(pulses))])\n",
    "        pulses_pd=pd.DataFrame({\"p_id\":p_id,\"p_left\":p_left,\"p_right\":p_right,\"p_channel\":p_channel})\n",
    "        pulses_pd=pulses_pd[(pulses_pd[\"p_left\"] <= end_sample) & (pulses_pd[\"p_right\"] >= start_sample)]    \n",
    "        \n",
    "        # defining waveforms\n",
    "        nPmts=248\n",
    "        wf_raw=np.zeros((nPmts,end_sample-start_sample))\n",
    "        channel_sat_status=np.zeros(nPmts) # set to 1 if channels has saturated channels\n",
    "        channel_sat_samples=np.zeros(nPmts) # total number of saturated samples per channel\n",
    "        channel_sat_left=np.zeros(nPmts) # total number of saturated samples per channel\n",
    "        channel_sat_right=np.zeros(nPmts) # total number of saturated samples per channel\n",
    "\n",
    "        # Read Raw data\n",
    "        if((end_sample-start_sample)>0):\n",
    "            for pmtid in range(0, nPmts):\n",
    "                channel_sat_left[pmtid]=end_sample\n",
    "                channel_sat_right[pmtid]=start_sample\n",
    "                \n",
    "                index_all=pulses_pd[(pulses_pd.p_channel==pmtid)].p_id.values\n",
    "#                if(len(index_all)>0):\n",
    "#                    print(index_all)\n",
    "                for index in index_all:\n",
    "                    p=pulses[int(index)]                    \n",
    "                    p_left=p.left\n",
    "                    p_right=p.right\n",
    "                    raw_data_adc = p.raw_data.astype(np.float16)                   \n",
    "                    for sample in range(start_sample,end_sample):\n",
    "                        if(p_left<=sample and p_right>=sample):\n",
    "                            adc=raw_data_adc[sample-p.left]\n",
    "                            adc=16000.0-adc                        \n",
    "                            wf_raw[pmtid,sample-start_sample]=adc * Conversions[pmtid]\n",
    "                            \n",
    "                            # determine whether there is saturation\n",
    "                            if (adc>=16000.0):\n",
    "                                channel_sat_status[pmtid]=1\n",
    "                                channel_sat_samples[pmtid]+=1   \n",
    "                                channel_sat_left[pmtid]=np.minimum(sample, channel_sat_left[pmtid])\n",
    "                                channel_sat_right[pmtid]=np.maximum(sample, channel_sat_right[pmtid])\n",
    "\n",
    "            # Sum of WFs\n",
    "            wf_sum_all=np.sum(wf_raw,axis=0) # all PMTs including the saturated channels\n",
    "            \n",
    "            # first deal with non-saturated PMTS, define Sum of nan_saturated WF     \n",
    "            wf_sum_nan_saturate=np.zeros_like(wf_sum_all) # Sum of non-saturated \n",
    "            wf_sum_saturate=np.zeros_like(wf_sum_all) # Sum of non-saturated \n",
    "\n",
    "            for sample in range(start_sample,end_sample):\n",
    "                for pmtid in range(0, nPmts):\n",
    "                    # first deal with non-saturated PMTS\n",
    "                    if(channel_sat_samples[pmtid]<1):\n",
    "                        wf_sum_nan_saturate[sample-start_sample]+=wf_raw[pmtid,sample-start_sample]\n",
    "                    else:\n",
    "                        wf_sum_saturate[sample-start_sample]+=wf_raw[pmtid,sample-start_sample]\n",
    "                        \n",
    "            area_nan_saturate=np.sum(wf_sum_nan_saturate) # Area of Total non-saturated WFs            \n",
    "            # The apply correction on saturated samples, need the shape of non-saturated WFs\n",
    "            # re-define pulse shape based on the derived model data\n",
    "            max_sample=np.argmax(wf_sum_nan_saturate) #sample sample at maximum\n",
    "            height=wf_sum_nan_saturate[max_sample]\n",
    "            peak_threshold_left=0.01*height\n",
    "            peak_threshold_right=0.03*height\n",
    "\n",
    "\n",
    "            # search for more precise peak left/right edges\n",
    "            peak_left_edge=max_sample\n",
    "            for sample in reversed(range(start_sample,max_sample+start_sample)):\n",
    "                if(wf_sum_nan_saturate[sample-start_sample]<=peak_threshold_left):\n",
    "                    peak_left_edge=sample\n",
    "                    break\n",
    "            \n",
    "            peak_right_edge=max_sample\n",
    "            for sample in range(max_sample+start_sample,end_sample):\n",
    "                if(wf_sum_nan_saturate[sample-start_sample]<=peak_threshold_right):\n",
    "                    peak_right_edge=sample\n",
    "                    break\n",
    "\n",
    "            # re-calculate area in the new window\n",
    "            area_nan_saturate=0.0\n",
    "            #print(start_sample,end_sample,max_sample,peak_left_edge,peak_right_edge)\n",
    "            \n",
    "            for sample in range(peak_left_edge,peak_right_edge):\n",
    "                area_nan_saturate+=wf_sum_nan_saturate[sample-start_sample]\n",
    "                            \n",
    "            # Area per pmt w/o saturation correction\n",
    "            area_pmt_before_correction=np.sum(wf_raw,axis=1)\n",
    "            area_pmt_after_correction=np.zeros(nPmts)\n",
    "            area_pmt_correction_factor=np.zeros(nPmts)\n",
    "            \n",
    "            pmtid_non_sat_plot=0\n",
    "            pmtid_sat_plot=0\n",
    "            for pmtid in range(0,nPmts):\n",
    "                area_model=0\n",
    "                area_data=0\n",
    "                #area_per_pmt.push_back(area_pmt_before_correction[pmtid]) # For ROOT\n",
    "#                for sample in range(start_sample,end_sample):\n",
    "                for sample in range(peak_left_edge,peak_right_edge):\n",
    "                    if(sample<channel_sat_left[pmtid] or sample>channel_sat_right[pmtid]):\n",
    "                        area_model+=wf_sum_nan_saturate[sample-start_sample]\n",
    "                        area_data+=wf_raw[pmtid,sample-start_sample]\n",
    "                try:\n",
    "                    area_pmt_correction_factor[pmtid]=area_data/area_model\n",
    "                except ZeroDivisionError:\n",
    "                    area_pmt_correction_factor[pmtid]=1\n",
    "                area_pmt_after_correction[pmtid]=area_nan_saturate*area_pmt_correction_factor[pmtid]\n",
    "                #area_per_pmt_corrected.push_back(area_pmt_after_correction[pmtid]) # for ROOT\n",
    "                if(channel_sat_samples[pmtid]>0):                    \n",
    "#                    print('PMT : '+str(pmtid)+'  Saturated samples:   '+str(channel_sat_samples[pmtid])+'  Correction Factor: '+str(area_pmt_after_correction[pmtid]/area_pmt_before_correction[pmtid]))\n",
    "                    if(area_pmt_after_correction[pmtid]>=area_pmt_after_correction[pmtid_sat_plot]):\n",
    "                        pmtid_sat_plot=pmtid\n",
    "\n",
    "                # largest non saturated wf id\n",
    "                else:\n",
    "                    if(area_pmt_after_correction[pmtid]>=area_pmt_after_correction[pmtid_non_sat_plot]):\n",
    "                        pmtid_non_sat_plot=pmtid\n",
    "            # plots\n",
    "            wf_pmt_non_sat_to_plot=wf_raw[pmtid_non_sat_plot,:]            \n",
    "            scaling_non_sat=np.sum(wf_pmt_non_sat_to_plot)/area_nan_saturate\n",
    "            wf_pmt_non_sat_to_plot=wf_pmt_non_sat_to_plot/scaling_non_sat\n",
    "            \n",
    "            wf_pmt_sat_to_plot=wf_raw[pmtid_sat_plot,:]            \n",
    "            wf_pmt_sat_to_plot=wf_pmt_sat_to_plot/area_pmt_correction_factor[pmtid_sat_plot]\n",
    "\n",
    "            \n",
    "            #t1.Fill()\n",
    "            \n",
    "            #area_per_pmt_corrected.clear()\n",
    "            #area_per_pmt.clear()\n",
    "            if (generate_plot):\n",
    "                return wf_pmt_non_sat_to_plot,wf_pmt_sat_to_plot , wf_sum_nan_saturate, start_sample, end_sample,peak_left_edge,peak_right_edge #, wf_raw[pmt_id_test]\n",
    "    #t1.Write()\n",
    "    f.Close()\n",
    "    #return 0,0,0,0,0,0,0"
   ]
  },
  {
   "cell_type": "code",
   "execution_count": 128,
   "metadata": {
    "collapsed": false
   },
   "outputs": [
    {
     "name": "stdout",
     "output_type": "stream",
     "text": [
      "event 902\n"
     ]
    },
    {
     "name": "stderr",
     "output_type": "stream",
     "text": [
      "INFO:processor] This is PAX version 6.9.0, running with configuration for XENON1T.\n",
      "INFO:ReadZipped] InputFromFolder: Selecting file /Users/feigao/data/xenon1t/raw/170419_0228/XENON1T-8861-000000000-000000999-000001000.zip (number 1/20 in folder) for reading\n"
     ]
    },
    {
     "name": "stdout",
     "output_type": "stream",
     "text": [
      "Event No  0\n",
      "102556 113325\n"
     ]
    }
   ],
   "source": [
    "# plot the WFs.\n",
    "wf_pmt_non_sat_to_plot,wf_pmt_sat_to_plot, wf_sum_nan_saturate,start_sample, end_sample, peak_left_edge,peak_right_edge=process_data(True,7,1)"
   ]
  },
  {
   "cell_type": "code",
   "execution_count": 130,
   "metadata": {
    "collapsed": false
   },
   "outputs": [
    {
     "name": "stdout",
     "output_type": "stream",
     "text": [
      "10769\n",
      "10769\n"
     ]
    },
    {
     "data": {
      "image/png": "[encoded data removed]",
      "text/plain": [
       "<matplotlib.figure.Figure at 0x13112fe48>"
      ]
     },
     "metadata": {},
     "output_type": "display_data"
    }
   ],
   "source": [
    "print(len(wf_sum_nan_saturate))\n",
    "\n",
    "print(end_sample-start_sample)\n",
    "samples=np.zeros(end_sample-start_sample)\n",
    "for i in range(0,len(samples)):\n",
    "#    samples[i]=start_sample+i\n",
    "    samples[i]=i\n",
    "\n",
    "plt.figure(figsize=(8, 6))\n",
    "\n",
    "my_colors = 'rbkymc'\n",
    "\n",
    "plt.scatter(samples, wf_sum_nan_saturate, c='r', edgecolors='None', marker='s', s=5, label='Sum Non Sat (Model)')\n",
    "plt.scatter(samples, wf_pmt_non_sat_to_plot, c='b', edgecolors='None', marker='s', s=5, label='Largest Non Sat PMT')\n",
    "plt.scatter(samples, wf_pmt_sat_to_plot, c='g', edgecolors='None', marker='s', s=5, label='Largest Sat PMT')\n",
    "\n",
    "plt.plot((peak_left_edge-start_sample, peak_left_edge-start_sample), (0, 0.5*np.max(wf_sum_nan_saturate)), 'g')\n",
    "plt.plot((peak_right_edge-start_sample, peak_right_edge-start_sample), (0, 0.5*np.max(wf_sum_nan_saturate)), 'g')\n",
    "\n",
    "plt.xlim(0, (end_sample-start_sample)*0.14)\n",
    "plt.ylim(-5, np.amax(wf_sum_nan_saturate)*1.1)\n",
    "#plt.ylim(-5, 2000)\n",
    "\n",
    "plt.legend(loc='upper left', fontsize=15, markerscale=2)\n",
    "plt.title('WF of saturated and normal PMTs')\n",
    "plt.xlabel('Sample', fontsize=18)\n",
    "plt.ylabel('PE per Sample', fontsize=18)\n",
    "plt.xticks(fontsize=15)\n",
    "plt.yticks(fontsize=15)\n",
    "\n",
    "plt.show()\n",
    "    \n",
    "#print(samples)"
   ]
  },
  {
   "cell_type": "code",
   "execution_count": null,
   "metadata": {
    "collapsed": true
   },
   "outputs": [],
   "source": []
  },
  {
   "cell_type": "code",
   "execution_count": null,
   "metadata": {
    "collapsed": true
   },
   "outputs": [],
   "source": []
  }
 ],
 "metadata": {
  "anaconda-cloud": {},
  "kernelspec": {
   "display_name": "Python [conda env:pax_head]",
   "language": "python",
   "name": "conda-env-pax_head-py"
  },
  "language_info": {
   "codemirror_mode": {
    "name": "ipython",
    "version": 3
   },
   "file_extension": ".py",
   "mimetype": "text/x-python",
   "name": "python",
   "nbconvert_exporter": "python",
   "pygments_lexer": "ipython3",
   "version": "3.4.5"
  }
 },
 "nbformat": 4,
 "nbformat_minor": 0
}
