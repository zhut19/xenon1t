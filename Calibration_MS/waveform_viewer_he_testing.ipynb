{
 "cells": [
  {
   "cell_type": "code",
   "execution_count": 1,
   "metadata": {
    "collapsed": false
   },
   "outputs": [],
   "source": [
    "%run ~/Initialize_tianyu.ipynb"
   ]
  },
  {
   "cell_type": "code",
   "execution_count": 3,
   "metadata": {
    "collapsed": false
   },
   "outputs": [
    {
     "name": "stdout",
     "output_type": "stream",
     "text": [
      "2.5.0\n"
     ]
    }
   ],
   "source": [
    "import hax\n",
    "print(hax.__version__)\n",
    "hax.init(experiment='XENON1T',\n",
    "         pax_version_policy='loose',\n",
    "         sc_api_key='ssn1sslkvdhittoywjk88w9cmbxf4fmprn68r8hm',\n",
    "         force_reload=False,\n",
    "         raw_data_access_mode = 'local',\n",
    "         raw_data_local_path = ['/project/lgrandi/xenon1t/raw_for_waveforms/'], \n",
    "         main_data_paths= [\n",
    "             '/project2/lgrandi/xenon1t/processed/pax_v6.10.0',\n",
    "             '/project/lgrandi/xenon1t/processed/pax_v6.10.1'],\n",
    "         minitree_paths=[\n",
    "             '/project/lgrandi/xenon1t/minitrees/pax_v6.10.0', # \n",
    "             '/project/lgrandi/xenon1t/minitrees/pax_v6.10.1', #\n",
    "             '/project/lgrandi/feigao/minitrees/pax_v6.10.0', # Fei's new positions\n",
    "             '/project2/lgrandi/xenon1t/minitrees/pax_v6.10.0', # Reprocessed data are here\n",
    "            ])"
   ]
  },
  {
   "cell_type": "code",
   "execution_count": 12,
   "metadata": {
    "collapsed": true
   },
   "outputs": [],
   "source": [
    "import glob\n",
    "def find_downloaded_events(df):\n",
    "    global dsets\n",
    "    dsets = hax.runs.datasets\n",
    "    df['raw_data']=False\n",
    "    for run_number in df.run_number.unique():\n",
    "        run_name = dsets.loc[dsets.number==run_number, 'name'].values[0]\n",
    "        for folder in glob.glob(hax.config['raw_data_local_path'][0]+'/*%s*'%run_name):\n",
    "            for file in os.listdir(folder):\n",
    "                min_event_number, max_event_number = file.split('-')[2:4]\n",
    "                df.loc[(df.run_number==run_number) \n",
    "                       & (df.event_number>int(min_event_number))\n",
    "                       & (df.event_number<int(max_event_number)),\n",
    "                       'raw_data'\n",
    "                      ] = True\n",
    "    return df"
   ]
  },
  {
   "cell_type": "code",
   "execution_count": 37,
   "metadata": {
    "collapsed": true
   },
   "outputs": [],
   "source": [
    "d = pd.read_pickle('wf_samples.pkl')\n",
    "d = find_downloaded_events(d)\n",
    "d = d[d.raw_data]"
   ]
  },
  {
   "cell_type": "code",
   "execution_count": 38,
   "metadata": {
    "collapsed": false
   },
   "outputs": [],
   "source": [
    "d.sort_values(by=['run_number', 'event_number'], inplace=True)\n",
    "run_number = d.run_number.unique()[0]\n",
    "tmp = d[d.run_number==run_number]"
   ]
  },
  {
   "cell_type": "code",
   "execution_count": 39,
   "metadata": {
    "collapsed": false
   },
   "outputs": [
    {
     "name": "stderr",
     "output_type": "stream",
     "text": [
      "processor MainProcess L66 INFO This is PAX version 6.10.1, running with configuration for XENON1T.\n",
      "ReadZipped MainProcess L102 INFO InputFromFolder: Selecting file /project/lgrandi/xenon1t/raw_for_waveforms/170209_2348/XENON1T-6969-000004000-000004999-000001000.zip (number 1/3 in folder) for reading\n"
     ]
    }
   ],
   "source": [
    "from pax import units\n",
    "from pax import configuration\n",
    "\n",
    "config_names=('_base', 'XENON1T')\n",
    "c = configuration.load_configuration(config_names)\n",
    "\n",
    "event_numbers = tmp.event_number.unique()\n",
    "run_name = dsets.loc[dsets.number==run_number, 'name'].values[0]\n",
    "\n",
    "from pax import core\n",
    "core_processor = core.Processor(\n",
    "    config_names=('_base','XENON1T'),\n",
    "    just_testing=False,\n",
    "    config_dict={\n",
    "        'pax':{\n",
    "            'input_name' : '/project/lgrandi/xenon1t/raw_for_waveforms/%s'%run_name,\n",
    "            'events_to_process' : event_numbers,\n",
    "            'output' : 'Dummy.DummyOutput',\n",
    "            'pre_output' : [],\n",
    "            'encoder_plugin' : None,\n",
    "            }}\n",
    ")\n",
    "events = core_processor.get_events()"
   ]
  },
  {
   "cell_type": "code",
   "execution_count": 33,
   "metadata": {
    "collapsed": true
   },
   "outputs": [],
   "source": [
    "if not '/home/zhut/Beta_Beta/Calibration_MS/' in sys.path:\n",
    "    sys.path.append('/home/zhut/Beta_Beta/Calibration_MS/')\n",
    "from MultipleS2Peaks_PUpdate import MultipleS2Peaks\n",
    "ms2p = MultipleS2Peaks()\n",
    "\n",
    "def classify(peak, s1, s2):\n",
    "    if peak.type == 's1':\n",
    "        return peak.type\n",
    "    if peak.type == 's2':\n",
    "        if peak.area<150:\n",
    "            return 'single_e'\n",
    "        drift_time = (peak.index_of_maximum - s1.index_of_maximum) * ms2p.sample_duration\n",
    "        z = - ms2p.drift_velocity_liquid * (drift_time -ms2p.drift_time_gate)\n",
    "        for rp in peak.reconstructed_positions:\n",
    "            if rp.algorithm == 'PosRecTopPatternFit':\n",
    "                gof = getattr(rp, 'goodness_of_fit')\n",
    "        ans = ms2p.determine_interaction(pd.DataFrame([dict(z=z, \n",
    "                                                     area=peak.area, \n",
    "                                                     goodness_of_fit_tpf=gof,\n",
    "                                                     range_50p_area=list(peak.range_area_decile)[5],\n",
    "                                                     s2=s2.area\n",
    "                                                    )]))\n",
    "        if not ans.not_interaction.values[0]:\n",
    "            return 's2'\n",
    "        else:\n",
    "            return 'e_train'"
   ]
  },
  {
   "cell_type": "code",
   "execution_count": 16,
   "metadata": {
    "collapsed": true
   },
   "outputs": [],
   "source": [
    "############## Plotting while processing #######################\n",
    "def hit_color(hits):\n",
    "    color_factor = np.clip(hits.height/hits.noise_sigma, 0, 15)/15\n",
    "    is_rejected = hits.is_rejected.astype(int)\n",
    "    \n",
    "    aplist = c['DesaturatePulses.DesaturatePulses']['large_after_pulsing_channels']\n",
    "    offlist = list(np.where(np.array(c['DEFAULT']['gains'])==0.0)[0])\n",
    "    \n",
    "    is_ap = hits.channel.isin(aplist).astype(int)\n",
    "    is_off = hits.channel.isin(offlist).astype(int)\n",
    "    is_any = 1- (1-is_ap) * (1-is_off) * (1-is_rejected)\n",
    "    \n",
    "    rgba_colors = np.zeros((len(hits), 4))\n",
    "    rgba_colors[:, 0] = (1 - is_any) * color_factor\n",
    "    rgba_colors[:, 1] = is_off\n",
    "    rgba_colors[:, 2] = is_ap #(1 - is_rejected) * (1 - color_factor)\n",
    "    rgba_colors[:, 3] = 0.75\n",
    "    \n",
    "    return rgba_colors\n",
    "\n",
    "def plot_2d_waveform(event, xlim):\n",
    "\n",
    "    global investigating_peaks\n",
    "    investigating_peaks = []\n",
    "    \n",
    "    if len(event.interactions) < 1:\n",
    "        print('No interaction in this event')\n",
    "        return 0\n",
    "\n",
    "    s1 = event.peaks[event.interactions[0].s1]\n",
    "    s2 = event.peaks[event.interactions[0].s2]\n",
    "        \n",
    "    with initiate_plot(30,15):\n",
    "        axm = plt.gca()\n",
    "        axm.tick_params(axis='both', bottom='off', labelbottom='off', left='off', labelleft='off')\n",
    "        pos = axm.get_position()\n",
    "        top = [pos.x0, pos.y0+0.5*pos.height, pos.width, pos.height*0.5]\n",
    "        bot = [pos.x0, pos.y0, pos.width, pos.height*0.5]\n",
    "\n",
    "        ####################################################\n",
    "        axt = plt.axes(top)\n",
    "        w = event.get_sum_waveform('tpc').samples[:]\n",
    "        time = np.arange(len(w))*0.01\n",
    "\n",
    "        ymax = np.max(w)**1.5\n",
    "\n",
    "        plt.yscale('symlog')\n",
    "        plt.plot(time, w, color='k', lw=2.0, zorder=1)\n",
    "    \n",
    "        plt_config(xlim = xlim, ylim=[-1, ymax], ylabel='Amplitude [pe/bin]')\n",
    "        axt.tick_params(axis='x', bottom='off', labelbottom='off', left='off', labelleft='off')\n",
    "\n",
    "        ####################################################\n",
    "        axb = plt.axes(bot)\n",
    "        plt.axhline(127, color='k', zorder=0)\n",
    "        for peak_i, peak in enumerate(event.peaks):\n",
    "            if peak.detector != 'tpc': continue\n",
    "            if peak.right/100 < xlim[0] or peak.left/100 > xlim[1]: continue\n",
    "\n",
    "            #global hits\n",
    "            hits = pd.DataFrame(peak.hits)\n",
    "            hits = hits[(hits.channel<248) & (hits.area>2)]            \n",
    "            axb.scatter(hits.index_of_maximum*0.01, hits.channel, \n",
    "                        c=hit_color(hits), edgecolor='none', s=10 * np.clip(hits.area, 0, 10))\n",
    "\n",
    "            if (peak.area>100) and (peak.type == 's1' or peak.type == 's2'):\n",
    "                x, y = peak.index_of_maximum*0.01, w[peak.index_of_maximum]\n",
    "                ytext = np.random.uniform(y, min(ymax, y*5))\n",
    "\n",
    "                if x>xlim[1] or x<xlim[0]:\n",
    "                    continue\n",
    "                axt.axvspan(peak.left*0.01, (peak.right-1)*0.01, color='grey', alpha=0.1)\n",
    "                axb.axvspan(peak.left*0.01, (peak.right-1)*0.01, color='grey', alpha=0.1)\n",
    "                axt.text(x, ytext, text)\n",
    "\n",
    "                cmap = dict(s1='C0', s2='C1', e_train='C2', single_e='C4')\n",
    "                axt.scatter(x, y, color=cmap[text])\n",
    "\n",
    "                investigating_peaks.append(dict(type=text, peak=peak, hits=hits))\n",
    "\n",
    "        plt_config(xlim=xlim, ylim=[0, 249], xlabel='Time [$\\mu s$]', ylabel='PMT channel')"
   ]
  },
  {
   "cell_type": "code",
   "execution_count": null,
   "metadata": {
    "collapsed": false
   },
   "outputs": [],
   "source": [
    "for event_i in range(10):\n",
    "    event_pax_core = next(events)\n",
    "    event_pax_core = core_processor.process_event(event_pax_core)\n",
    "    sec = tmp[tmp.event_number==event_pax_core.event_number]\n",
    "    sec = sec[~sec.not_interaction]\n",
    "    if len(sec) > 1:\n",
    "        s1ct = event_pax_core.peaks[event_pax_core.interactions[0].s1].center_time\n",
    "\n",
    "        left = min(s1ct, sec.center_time.min())/1000 - 10\n",
    "        right = sec.center_time.max()/1000 + 10\n",
    "        plot_2d_waveform(event_pax_core, [left, right])\n",
    "        fig.savefig('waveforms/run%d_event%d.png'%(run_number, event_pax_core.event_number), dpi=fig.dpi)\n"
   ]
  },
  {
   "cell_type": "code",
   "execution_count": null,
   "metadata": {
    "collapsed": true
   },
   "outputs": [],
   "source": []
  }
 ],
 "metadata": {
  "kernelspec": {
   "display_name": "Python 3",
   "language": "python",
   "name": "python3"
  },
  "language_info": {
   "codemirror_mode": {
    "name": "ipython",
    "version": 3
   },
   "file_extension": ".py",
   "mimetype": "text/x-python",
   "name": "python",
   "nbconvert_exporter": "python",
   "pygments_lexer": "ipython3",
   "version": "3.4.4"
  }
 },
 "nbformat": 4,
 "nbformat_minor": 2
}
