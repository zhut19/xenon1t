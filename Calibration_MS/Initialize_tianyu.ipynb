{
 "cells": [
  {
   "cell_type": "code",
   "execution_count": 1,
   "metadata": {
    "collapsed": true
   },
   "outputs": [],
   "source": [
    "import os, sys, time\n",
    "import numpy as np\n",
    "from numpy import sqrt, exp, pi, square\n",
    "import pandas as pd\n",
    "pd.options.mode.chained_assignment = None        # default='warn'\n",
    "import matplotlib\n",
    "from matplotlib.colors import LogNorm\n",
    "import matplotlib.pyplot as plt\n",
    "%matplotlib inline\n",
    "%config InlineBackend.figure_format = 'retina'   # enable if you have a retina display\n",
    "from scipy.optimize import curve_fit, minimize\n",
    "from scipy.interpolate import interp1d, UnivariateSpline\n",
    "import warnings\n",
    "warnings.filterwarnings('ignore')\n",
    "from multihist import Histdd, Hist1d\n",
    "from tqdm import tqdm_notebook as tqdm\n",
    "from multiprocessing import Pool\n",
    "from contextlib import contextmanager\n",
    "sys.path.append(os.getcwd)\n",
    "\n",
    "def plt_config(title=None, xlim=None, ylim=None, xlabel=None, ylabel=None, colorbar=False, sci=False):\n",
    "    for field in ['title', 'xlim', 'ylim', 'xlabel', 'ylabel']:\n",
    "        if eval(field) != None: getattr(plt, field)(eval(field))\n",
    "    if isinstance(sci, str): plt.ticklabel_format(style='sci', axis=sci, scilimits=(0,0))\n",
    "    if isinstance(colorbar,str): plt.colorbar(label=colorbar)\n",
    "    elif colorbar: plt.colorbar(label = '$Number\\ of\\ Entries$')\n",
    "\n",
    "@contextmanager\n",
    "def initiate_plot(dimx=24, dimy=9):\n",
    "    plt.rcParams['figure.figsize'] = (dimx, dimy)\n",
    "    global fig; fig = plt.figure()\n",
    "    yield\n",
    "    plt.show()\n",
    "\n",
    "@contextmanager\n",
    "def timeit():\n",
    "    start = time.time()\n",
    "    yield\n",
    "    stop = time.time()\n",
    "    print('This took %.2f seconds' % (stop-start))\n",
    "    time.sleep(0.5)"
   ]
  },
  {
   "cell_type": "code",
   "execution_count": 2,
   "metadata": {
    "collapsed": true
   },
   "outputs": [],
   "source": [
    "import matplotlib.pyplot as plt\n",
    "%matplotlib inline\n",
    "%config InlineBackend.figure_format = 'retina'   # enable if you have a retina display\n",
    "\n",
    "#### Plotting ####\n",
    "params = {\n",
    "    'backend': 'Agg',\n",
    "    # colormap\n",
    "    'image.cmap' : 'viridis',\n",
    "    # figure\n",
    "    'figure.figsize' : (4, 2),\n",
    "    'font.size' : 32,\n",
    "    'font.family' : 'serif',\n",
    "    'font.serif' : ['Times'],\n",
    "    # axes\n",
    "    'axes.titlesize' : 28,\n",
    "    'axes.labelsize' : 21,\n",
    "    'axes.linewidth' : 2,\n",
    "    # ticks\n",
    "    'xtick.labelsize' : 16,\n",
    "    'ytick.labelsize' : 16,\n",
    "    'xtick.major.size' : 10,\n",
    "    'xtick.minor.size' : 5,\n",
    "    'ytick.major.size' : 10,\n",
    "    'ytick.minor.size' : 5,\n",
    "    'xtick.major.width' : 1,\n",
    "    'xtick.minor.width' : 1,\n",
    "    'ytick.major.width' : 1,\n",
    "    'ytick.minor.width' : 1,\n",
    "    'xtick.direction' : 'in',\n",
    "    'ytick.direction' : 'in',\n",
    "    # markers\n",
    "    'lines.markersize' : 9,\n",
    "    'lines.markeredgewidth' : 2,\n",
    "    'errorbar.capsize' : 6,\n",
    "    'lines.linewidth' : 2,\n",
    "    #'lines.linestyle' : None,\n",
    "    'lines.marker' : None,\n",
    "    'savefig.bbox' : 'tight',\n",
    "    'legend.fontsize' : 16,\n",
    "    'xtick.major.pad' : 5,\n",
    "    'text.latex.unicode': True,\n",
    "}\n",
    "plt.rcParams.update(params)\n",
    "plt.rc('text', usetex=False)"
   ]
  },
  {
   "cell_type": "code",
   "execution_count": null,
   "metadata": {
    "collapsed": true
   },
   "outputs": [],
   "source": []
  }
 ],
 "metadata": {
  "kernelspec": {
   "display_name": "Python 3",
   "language": "python",
   "name": "python3"
  },
  "language_info": {
   "codemirror_mode": {
    "name": "ipython",
    "version": 3
   },
   "file_extension": ".py",
   "mimetype": "text/x-python",
   "name": "python",
   "nbconvert_exporter": "python",
   "pygments_lexer": "ipython3",
   "version": "3.4.4"
  }
 },
 "nbformat": 4,
 "nbformat_minor": 2
}
