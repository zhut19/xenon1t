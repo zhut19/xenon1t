{
 "cells": [
  {
   "cell_type": "code",
   "execution_count": 1,
   "metadata": {
    "collapsed": false
   },
   "outputs": [],
   "source": [
    "import hax\n",
    "hax.__version__\n",
    "\n",
    "hax.init(experiment='XENON1T',\n",
    "         pax_version_policy='loose',\n",
    "         sc_api_key='ssn1sslkvdhittoywjk88w9cmbxf4fmprn68r8hm',\n",
    "         force_reload=False,\n",
    "         raw_data_access_mode = 'local',\n",
    "         raw_data_local_path = ['/project/lgrandi/xenon1t/raw_for_waveforms/'], \n",
    "         main_data_paths= ['/dali/lgrandi/xenon1t/processed/pax_v6.10.1',''],\n",
    "         minitree_paths= ['/project2/lgrandi/zhut/minitrees/pax_v6.10.1',  # New data from dali and 6.0.2 version of MultipleS2Peaks\n",
    "                          '/project2/lgrandi/zhut/minitrees/pax_v6.10.0',\n",
    "                          '/project2/lgrandi/xenon1t/minitrees/pax_v6.10.0',\n",
    "                          '/project2/lgrandi/xenon1t/minitrees/latest'],\n",
    "         use_rundb=True,\n",
    "         make_minitree=True,\n",
    "         minitree_caching=True,)"
   ]
  },
  {
   "cell_type": "code",
   "execution_count": 2,
   "metadata": {
    "collapsed": true
   },
   "outputs": [],
   "source": [
    "%run ./Initialize_tianyu.ipynb"
   ]
  },
  {
   "cell_type": "code",
   "execution_count": 4,
   "metadata": {
    "collapsed": true
   },
   "outputs": [],
   "source": [
    "%load_ext autoreload"
   ]
  },
  {
   "cell_type": "code",
   "execution_count": 8,
   "metadata": {
    "collapsed": true
   },
   "outputs": [],
   "source": [
    "if os.getcwd() not in sys.path: sys.path.append(os.getcwd())"
   ]
  },
  {
   "cell_type": "code",
   "execution_count": 23,
   "metadata": {
    "collapsed": false
   },
   "outputs": [],
   "source": [
    "%aimport TwoLevel\n",
    "%aimport MultipleS2Peaks"
   ]
  },
  {
   "cell_type": "code",
   "execution_count": 24,
   "metadata": {
    "collapsed": true
   },
   "outputs": [],
   "source": [
    "%autoreload 1"
   ]
  },
  {
   "cell_type": "code",
   "execution_count": 25,
   "metadata": {
    "collapsed": false
   },
   "outputs": [],
   "source": [
    "MultipleS2Corrections = MultipleS2Peaks.MultipleS2Corrections\n",
    "MultipleS2Peaks = MultipleS2Peaks.MultipleS2Peaks"
   ]
  },
  {
   "cell_type": "code",
   "execution_count": 26,
   "metadata": {
    "collapsed": false
   },
   "outputs": [],
   "source": [
    "#%%prun -D MultipleS2PeaksTreeMaker.prof\n",
    "testp = hax.minitrees.load('171005_0423', [MultipleS2Peaks])\n",
    "teste = hax.minitrees.load('171005_0423', [MultipleS2Corrections])"
   ]
  },
  {
   "cell_type": "code",
   "execution_count": 28,
   "metadata": {
    "collapsed": false
   },
   "outputs": [
    {
     "data": {
      "text/plain": [
       "(Index(['area', 'area_fraction_top', 'carea_nn', 'carea_tpf', 'center_time',\n",
       "        'drift_time', 'event_number', 'goodness_of_fit_nn',\n",
       "        'goodness_of_fit_tpf', 'index_of_maximum', 'not_interaction',\n",
       "        'not_interaction_depth', 'not_interaction_pattern',\n",
       "        'not_interaction_width', 'range_50p_area', 'run_number', 's1',\n",
       "        's1_xyz_correction_nn_fdc_3d', 's1_xyz_correction_tpf_fdc_2d', 's2',\n",
       "        's2_lifetime_correction', 's2_xy_nn_correction_tot',\n",
       "        's2_xy_tpf_correction_tot', 'weighted_s1_xyz_correction_nn_fdc_3d',\n",
       "        'weighted_s1_xyz_correction_tpf_fdc_2d', 'x_nn', 'x_tpf', 'y_nn',\n",
       "        'y_tpf', 'z'],\n",
       "       dtype='object'),\n",
       " Index(['cs1_multi_peak', 'cs2_multi_peak', 'cs2b_multi_peak',\n",
       "        'cs2t_multi_peak', 'event_number', 'n_multi_peak', 'run_number',\n",
       "        's2_multi_peak', 'x_nn_multi_peak', 'x_tpf_multi_peak',\n",
       "        'y_nn_multi_peak', 'y_tpf_multi_peak'],\n",
       "       dtype='object'))"
      ]
     },
     "execution_count": 28,
     "metadata": {},
     "output_type": "execute_result"
    }
   ],
   "source": [
    "testp.columns, teste.columns"
   ]
  },
  {
   "cell_type": "code",
   "execution_count": null,
   "metadata": {
    "collapsed": true
   },
   "outputs": [],
   "source": []
  }
 ],
 "metadata": {
  "kernelspec": {
   "display_name": "Python 3",
   "language": "python",
   "name": "python3"
  },
  "language_info": {
   "codemirror_mode": {
    "name": "ipython",
    "version": 3
   },
   "file_extension": ".py",
   "mimetype": "text/x-python",
   "name": "python",
   "nbconvert_exporter": "python",
   "pygments_lexer": "ipython3",
   "version": "3.4.4"
  }
 },
 "nbformat": 4,
 "nbformat_minor": 2
}
