{
 "cells": [
  {
   "cell_type": "code",
   "execution_count": 1,
   "metadata": {
    "collapsed": false
   },
   "outputs": [],
   "source": [
    "import os, sys\n",
    "import numpy as np\n",
    "from multihist import Histdd, Hist1d\n",
    "import matplotlib\n",
    "from matplotlib.colors import LogNorm\n",
    "import matplotlib.pyplot as plt\n",
    "%matplotlib inline \n",
    "%config InlineBackend.figure_format = 'retina'   # enable if you have a retina display\n",
    "import pandas as pd\n",
    "from scipy.optimize import curve_fit, minimize\n",
    "from scipy.interpolate import UnivariateSpline\n",
    "from scipy.special import expi\n",
    "\n",
    "pd.options.mode.chained_assignment = None        # default='warn'\n",
    "import warnings\n",
    "warnings.filterwarnings('ignore')"
   ]
  },
  {
   "cell_type": "code",
   "execution_count": 2,
   "metadata": {
    "collapsed": false
   },
   "outputs": [],
   "source": [
    "dsets = pd.read_pickle('/home/zhut/data/Delayed/data/run_names_v6.6.5_100.pkl')"
   ]
  },
  {
   "cell_type": "code",
   "execution_count": 3,
   "metadata": {
    "collapsed": false
   },
   "outputs": [],
   "source": [
    "def plt_config(title = None, xbounds = None, ybounds = None, xlabel = None, ylabel = None, colorbar = False, sci = True):\n",
    "    if sci:\n",
    "        plt.ticklabel_format(style='sci', axis='x', scilimits=(0,0))\n",
    "        plt.ticklabel_format(style='sci', axis='y', scilimits=(0,0))\n",
    "    plt.title(title)\n",
    "    plt.xlim(xbounds)\n",
    "    plt.ylim(ybounds)\n",
    "    plt.xlabel(xlabel)\n",
    "    plt.ylabel(ylabel)\n",
    "    if isinstance(colorbar,str):\n",
    "        plt.colorbar(label = colorbar)\n",
    "    elif colorbar:\n",
    "        plt.colorbar(label = 'Number of entries')\n",
    "    else:\n",
    "        pass"
   ]
  },
  {
   "cell_type": "code",
   "execution_count": 4,
   "metadata": {
    "collapsed": true
   },
   "outputs": [],
   "source": [
    "pax_version = '6.6.5'\n",
    "your_own_path = '/home/zhut/data/Delayed/data/pickles/pax_v%s_elist' % pax_version"
   ]
  },
  {
   "cell_type": "code",
   "execution_count": 5,
   "metadata": {
    "collapsed": false
   },
   "outputs": [],
   "source": [
    "df_copy = []\n",
    "for filename in os.listdir(your_own_path):\n",
    "    if '.pkl' in filename:\n",
    "        df_copy.append(pd.read_pickle(os.path.join(your_own_path,filename)))\n",
    "    if len(df_copy) > 10:\n",
    "        break\n",
    "df_copy = pd.concat(df_copy)"
   ]
  },
  {
   "cell_type": "code",
   "execution_count": 6,
   "metadata": {
    "collapsed": false
   },
   "outputs": [
    {
     "name": "stdout",
     "output_type": "stream",
     "text": [
      "Index(['cs1', 'cs2', 'drift_time', 'event_duration', 'event_number',\n",
      "       'event_time', 'largest_other_s2', 'previous_1e5pe_event',\n",
      "       'previous_1e6pe_event', 'previous_3e5pe_event', 'previous_busy',\n",
      "       'previous_busy_off', 'previous_busy_on', 'previous_event',\n",
      "       'previous_hev', 'previous_hev_off', 'previous_hev_on',\n",
      "       'previous_muon_veto_trigger', 'previous_s2_area', 'run_number', 's1',\n",
      "       's1_area_fraction_top', 's1_range_50p_area', 's2',\n",
      "       's2_area_fraction_top', 's2_range_50p_area', 's2aft_low_lim',\n",
      "       's2aft_up_lim', 'x', 'y', 'z'],\n",
      "      dtype='object')\n"
     ]
    }
   ],
   "source": [
    "#print(df_copy.columns)\n",
    "not_in_use_col = []\n",
    "not_in_use_col += [col for col in df_copy.columns if ('nearest' in col) or ('next' in col)]\n",
    "not_in_use_col += [col for col in df_copy.columns if ('largest_' in col)]\n",
    "not_in_use_col.remove('largest_other_s2')\n",
    "df_copy.drop(not_in_use_col,axis = 1,inplace = True)\n",
    "print(df_copy.columns)"
   ]
  },
  {
   "cell_type": "code",
   "execution_count": null,
   "metadata": {
    "collapsed": false
   },
   "outputs": [],
   "source": [
    "from numpy import sqrt, log\n",
    "\n",
    "\n",
    "plt.rcParams['figure.figsize'] = (16, 10)\n",
    "fig = plt.figure()\n",
    "\n",
    "if False:\"\"\"\n",
    "sel_clean = lambda df:df[(df.previous_event > 10e6) &\n",
    "                         (df.event_number != 0) & \n",
    "                         (df.previous_s2_area > 0) & \n",
    "                         (df.previous_hev > 80e6) &\n",
    "                         (df.previous_muon_veto_trigger > 80e6) &\n",
    "                         (np.log10(df.previous_s2_area**0.25*np.exp(-df.previous_event/5e6)) < -4) &\n",
    "                         (df.drift_time > 5e3) &\n",
    "                         (df.largest_other_s2 < ses2_size_cut_ori(df.s2))\n",
    "                        ]\n",
    "df = sel_clean(df_copy)\n",
    "\n",
    "#Main S2 area fraction top cut\n",
    "df['s2aft_up_lim'] = (0.6177399420527526 + 3.713166211522462e-08 * df.s2 + 0.5460484265254656 / np.log(df.s2))\n",
    "df['s2aft_low_lim'] = (0.6648160611018054 - 2.590402853814859e-07 * df.s2 - 0.8531029789184852 / np.log(df.s2))\n",
    "df = df[df.s2_area_fraction_top<df.s2aft_up_lim]\n",
    "df = df[df.s2_area_fraction_top>df.s2aft_low_lim]\n",
    "\n",
    "\n",
    "\n",
    "def ses2_size_cut_ori(s2_area):\n",
    "    linear_0 = s2_area *0.01 + 90\n",
    "    linear_1 = s2_area * 0.025 + 766\n",
    "    fermi_dirac_coef_0 = 1 / (np.exp((s2_area - 26000) * 6e-4) + 1) \n",
    "    fermi_dirac_coef_1 = 1 / (np.exp((26000 - s2_area) * 6e-4) + 1)\n",
    "    return linear_0*fermi_dirac_coef_0+linear_1*fermi_dirac_coef_1\"\"\"\n",
    "\n",
    "\n",
    "#df = df_copy\n",
    "df = quality_control_cuts(df_copy)\n",
    "#####################################################################\n",
    "ax = fig.add_subplot(221)\n",
    "mh = Histdd(df.drift_time, df.s2_area_fraction_top,\n",
    "            bins = (np.linspace(0,0.69e6,100), np.linspace(0,1,100))\n",
    "           )\n",
    "mh.plot(log_scale = True, cmap=plt.get_cmap('viridis'), alpha = 1.0 )\n",
    "\n",
    "\n",
    "#####################################################################\n",
    "ax = fig.add_subplot(222)\n",
    "mh = Histdd(df.drift_time, df.s2_range_50p_area,\n",
    "            bins = (np.linspace(0,0.69e6,100), np.linspace(0,10e3,100))\n",
    "           )\n",
    "mh.plot(log_scale = True, cmap=plt.get_cmap('viridis'), alpha = 1.0 )\n",
    "\n",
    "\n",
    "#####################################################################\n",
    "ax = fig.add_subplot(223)\n",
    "mh = Histdd(np.log10(df.s2), np.log10(df.largest_other_s2),\n",
    "            bins = (np.linspace(2,6,100), np.linspace(1,5,100))\n",
    "           )\n",
    "mh.plot(log_scale = True, cmap=plt.get_cmap('viridis'), alpha = 1.0 )\n",
    "\n",
    "\n",
    "#####################################################################\n",
    "ax = fig.add_subplot(224)\n",
    "mh = Histdd(df.x**2 + df.y**2, df.z,\n",
    "            bins = (np.linspace(0,2300,100), np.linspace(-103,3,100))\n",
    "           )\n",
    "mh.plot(log_scale = True, cmap=plt.get_cmap('viridis'), alpha = 1.0 )\n",
    "\n",
    "plt.show()"
   ]
  },
  {
   "cell_type": "code",
   "execution_count": 11,
   "metadata": {
    "collapsed": true
   },
   "outputs": [],
   "source": [
    "def quality_control_cuts(df):\n",
    "    \n",
    "    def ses2_size_cut_ori(s2_area):\n",
    "        linear_0 = s2_area *0.01 + 90\n",
    "        linear_1 = s2_area * 0.025 + 766\n",
    "        fermi_dirac_coef_0 = 1 / (np.exp((s2_area - 26000) * 6e-4) + 1) \n",
    "        fermi_dirac_coef_1 = 1 / (np.exp((26000 - s2_area) * 6e-4) + 1)\n",
    "        return linear_0*fermi_dirac_coef_0+linear_1*fermi_dirac_coef_1\n",
    "\n",
    "    sel_dtime = lambda df:df[(df.event_number >= 10) &\n",
    "                             (df.previous_event > 10e6) &\n",
    "                             (df.previous_hev > 80e6) & (df.previous_muon_veto_trigger > 80e6) &\n",
    "                             (np.log10(df.previous_s2_area**0.25*np.exp(-df.previous_event/5e6)) < -4)\n",
    "                            ]\n",
    "    df = sel_dtime(df)\n",
    "    \n",
    "    sel_usual = lambda df:df[(df.drift_time > 5e3) &\n",
    "                             (df.largest_other_s2 < ses2_size_cut_ori(df.s2)) &\n",
    "                             (df.x ** 2 + df.y **2 < 2200)\n",
    "                            ]\n",
    "    df = sel_usual(df)\n",
    "    # just applying a loose fv cuts\n",
    "\n",
    "    df['s2aft_up_lim'] = (0.6177399420527526 + 3.713166211522462e-08 * df.s2 + 0.5460484265254656 / np.log(df.s2))\n",
    "    df['s2aft_low_lim'] = (0.6648160611018054 - 2.590402853814859e-07 * df.s2 - 0.8531029789184852 / np.log(df.s2))\n",
    "    df = df[df.s2_area_fraction_top < df.s2aft_up_lim]\n",
    "    df = df[df.s2_area_fraction_top > df.s2aft_low_lim]\n",
    "\n",
    "    sel_tnext = lambda df:df[(df.next_hev_on > df.next_event) &\n",
    "                             (df.next_muon_veto_trigger > df.next_event)\n",
    "                            ]\n",
    "    \n",
    "    \n",
    "    return (df)"
   ]
  },
  {
   "cell_type": "code",
   "execution_count": 82,
   "metadata": {
    "collapsed": false
   },
   "outputs": [],
   "source": [
    "class data_process():\n",
    "\n",
    "    def __init__(self, run):\n",
    "        self.run = run\n",
    "\n",
    "    data_folder = '/home/zhut/data/Delayed/data'\n",
    "\n",
    "    input_path = []\n",
    "\n",
    "    output_path = [\n",
    "        data_folder + '/pickles/pax_v6.6.5_elist_all',\n",
    "        data_folder + '/pickles/pax_v6.6.5_elist_cut',\n",
    "        data_folder + '/pickles/pax_v6.6.5_peak_raw',\n",
    "        data_folder + '/pickles/pax_v6.6.5_peak_combine'\n",
    "                  ]\n",
    "            \n",
    "\n",
    "    def check(self):\n",
    "        name = self.run + '.pkl'\n",
    "        \n",
    "        for i, path in enumerate(self.output_path):\n",
    "            if os.path.isfile(os.path.join(path,name)):\n",
    "                pass\n",
    "            else:\n",
    "                return False, path\n",
    "        \n",
    "        return True, ''"
   ]
  },
  {
   "cell_type": "code",
   "execution_count": 83,
   "metadata": {
    "collapsed": false
   },
   "outputs": [
    {
     "name": "stdout",
     "output_type": "stream",
     "text": [
      "170307_0831 not yet in pax_v6.6.5_peak_combine\n",
      "170310_1816 not yet in pax_v6.6.5_elist_all\n",
      "170311_0919 not yet in pax_v6.6.5_peak_raw\n",
      "170403_2120 not yet in pax_v6.6.5_peak_combine\n",
      "170404_0621 not yet in pax_v6.6.5_peak_combine\n",
      "170418_0148 not yet in pax_v6.6.5_peak_combine\n",
      "170514_0825 not yet in pax_v6.6.5_peak_combine\n",
      "170515_1036 not yet in pax_v6.6.5_elist_all\n",
      "170515_1136 not yet in pax_v6.6.5_elist_all\n",
      "170515_1336 not yet in pax_v6.6.5_elist_all\n",
      "170515_1436 not yet in pax_v6.6.5_elist_all\n",
      "170515_1637 not yet in pax_v6.6.5_elist_all\n",
      "170515_1837 not yet in pax_v6.6.5_elist_all\n",
      "170515_1938 not yet in pax_v6.6.5_elist_all\n",
      "170515_2038 not yet in pax_v6.6.5_elist_all\n",
      "170515_2238 not yet in pax_v6.6.5_elist_all\n",
      "170516_0239 not yet in pax_v6.6.5_elist_all\n",
      "170516_0339 not yet in pax_v6.6.5_elist_all\n",
      "170516_0640 not yet in pax_v6.6.5_elist_all\n",
      "170516_0740 not yet in pax_v6.6.5_elist_all\n"
     ]
    }
   ],
   "source": [
    "for name in dsets.name.values:\n",
    "    dp = data_process(name)\n",
    "    flag, path = dp.check()\n",
    "    if flag:\n",
    "        pass\n",
    "        #print ('%s ready' %name)\n",
    "    else:\n",
    "        print ('%s not yet in %s' %(name, path.split('/')[-1]))"
   ]
  },
  {
   "cell_type": "code",
   "execution_count": null,
   "metadata": {
    "collapsed": true
   },
   "outputs": [],
   "source": []
  }
 ],
 "metadata": {
  "anaconda-cloud": {},
  "kernelspec": {
   "display_name": "xenon1t",
   "language": "python",
   "name": "xenon1t"
  },
  "language_info": {
   "codemirror_mode": {
    "name": "ipython",
    "version": 3
   },
   "file_extension": ".py",
   "mimetype": "text/x-python",
   "name": "python",
   "nbconvert_exporter": "python",
   "pygments_lexer": "ipython3",
   "version": "3.4.4"
  }
 },
 "nbformat": 4,
 "nbformat_minor": 1
}
